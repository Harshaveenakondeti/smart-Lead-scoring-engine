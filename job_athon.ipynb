{
 "cells": [
  {
   "cell_type": "markdown",
   "id": "382a96ca",
   "metadata": {},
   "source": [
    "# Smart Lead Scoring Engine\n",
    "\n",
    "**Aim**: Identifying potential leads for D2C startup.\n",
    "\n",
    "## Problem Statement\n",
    "\n",
    "A **D2C startup** develops products using **cutting edge technologies** like **Web 3.0**. Over the past few months, the company has started multiple **marketing campaigns offline and digital** both. As a result, the users have started showing interest in the product on the website. These users with **intent to buy product**(s) are generally known as **leads (Potential Customers)**.\n",
    "Leads are captured in 2 ways - **Directly and Indirectly**. \n",
    "\n",
    "**Direct leads** are captured via forms embedded in the website while **indirect leads** are captured based on certain activity of a user on the platform such as time spent on the website, number of user sessions, etc.\n",
    "\n",
    "Now, the marketing & sales team wants to **identify the leads who are more likely to buy the product** so that the sales team can manage their bandwidth efficiently by targeting these potential leads and increase the sales in a shorter span of time.\n",
    "\n",
    "Now, as a **data scientist**, your task at hand is to **predict the propensity to buy a product** based on the user's past activities and user level information."
   ]
  },
  {
   "cell_type": "markdown",
   "id": "45fcb962",
   "metadata": {},
   "source": [
    "## About Dataset\n",
    "\n",
    "You are provided with the leads data of last year containing both direct and indirect leads. Each lead provides information about their activity on the platform, signup information and campaign information. Based on his past activity on the platform, you need to build the predictive model to classify if the user would buy the product in the next 3 months or not.\n",
    "\n",
    "**Data Dictionary**\n",
    "\n",
    "You are provided with 3 files - train.csv, test.csv and sample_submission.csv\n",
    "**Training set**\n",
    "\n",
    "train.csv contains the leads information of last 1 year from **Jan 2021 to Dec 2021**. And also the **target variable** indicating if the user will buy the product in next 3 months or not \n",
    "\n",
    "|Variable|Description|\n",
    "|---|---|\n",
    "id|Unique identifier of a lead|\n",
    "created_at|Date of lead dropped|\n",
    "signup_date|Sign up date of the user on the website|\n",
    "campaign_var (1 and 2)|campaign information of the lead|\n",
    "products_purchased|No. of past products purchased at the time of dropping the lead|\n",
    "user_activity_var (1 to 12)|Derived activities of the user on the website|\n",
    "buy|0 or 1 indicating if the user will buy the product in next 3 months or not |\n",
    "\n",
    "**Test set**\n",
    "\n",
    "test.csv contains the leads information of the current year from **Jan 2022 to March 2022**. You need to **predict if the lead will buy the product in next 3 months or not**.\n",
    "\n",
    "\n",
    "\n",
    "|Variable|Description|\n",
    "|----|----|\n",
    "id|Unique identifier of a lead\n",
    "created_at|Date of lead dropped\n",
    "signup_date|Sign up date of the user on the website\n",
    "campaign_var (1 and 2)|Campaign information of the lead\n",
    "products_purchased|No. of past products purchased at the time of dropping the lead\n",
    "user_activity_var (1 to 12) |Derived activities of the user on the website\n",
    "\n",
    "**Evaluation metric  of model is F1 score of class 1**.\n",
    "## importing libraries"
   ]
  },
  {
   "cell_type": "code",
   "execution_count": 2,
   "id": "11760aaa",
   "metadata": {},
   "outputs": [],
   "source": [
    "import numpy as np\n",
    "import pandas as pd\n",
    "import seaborn as sns\n",
    "import matplotlib.pyplot as plt"
   ]
  },
  {
   "cell_type": "code",
   "execution_count": 3,
   "id": "90e9b6e2",
   "metadata": {},
   "outputs": [],
   "source": [
    "# read datasets into pandas dataframe\n",
    "train = pd.read_csv('C:/Users/Hp/Documents/datasets/joathon/train_wn75k28.csv')\n",
    "test = pd.read_csv('C:/Users/Hp/Documents/datasets/joathon/test_Wf7sxXF.csv')"
   ]
  },
  {
   "cell_type": "code",
   "execution_count": 4,
   "id": "5abe2d7c",
   "metadata": {},
   "outputs": [
    {
     "data": {
      "text/plain": [
       "(39161, 19)"
      ]
     },
     "execution_count": 4,
     "metadata": {},
     "output_type": "execute_result"
    }
   ],
   "source": [
    "train.shape  # number of rows & columns"
   ]
  },
  {
   "cell_type": "code",
   "execution_count": 5,
   "id": "184b1517",
   "metadata": {},
   "outputs": [
    {
     "data": {
      "text/plain": [
       "(13184, 18)"
      ]
     },
     "execution_count": 5,
     "metadata": {},
     "output_type": "execute_result"
    }
   ],
   "source": [
    "test.shape   # number of rows & columns"
   ]
  },
  {
   "cell_type": "code",
   "execution_count": 6,
   "id": "370b712e",
   "metadata": {},
   "outputs": [
    {
     "data": {
      "text/plain": [
       "Index(['id', 'created_at', 'campaign_var_1', 'campaign_var_2',\n",
       "       'products_purchased', 'signup_date', 'user_activity_var_1',\n",
       "       'user_activity_var_2', 'user_activity_var_3', 'user_activity_var_4',\n",
       "       'user_activity_var_5', 'user_activity_var_6', 'user_activity_var_7',\n",
       "       'user_activity_var_8', 'user_activity_var_9', 'user_activity_var_10',\n",
       "       'user_activity_var_11', 'user_activity_var_12', 'buy'],\n",
       "      dtype='object')"
      ]
     },
     "execution_count": 6,
     "metadata": {},
     "output_type": "execute_result"
    }
   ],
   "source": [
    "train.columns   # columns of train"
   ]
  },
  {
   "cell_type": "code",
   "execution_count": 7,
   "id": "5137d47d",
   "metadata": {},
   "outputs": [
    {
     "data": {
      "text/plain": [
       "0"
      ]
     },
     "execution_count": 7,
     "metadata": {},
     "output_type": "execute_result"
    }
   ],
   "source": [
    "train.duplicated().sum()   # chcking duplicated values of train data\n"
   ]
  },
  {
   "cell_type": "code",
   "execution_count": 8,
   "id": "3f56f532",
   "metadata": {},
   "outputs": [
    {
     "data": {
      "text/plain": [
       "0"
      ]
     },
     "execution_count": 8,
     "metadata": {},
     "output_type": "execute_result"
    }
   ],
   "source": [
    "test.duplicated().sum()   # checking duplicated values of test data"
   ]
  },
  {
   "cell_type": "code",
   "execution_count": 9,
   "id": "f07ea085",
   "metadata": {},
   "outputs": [
    {
     "data": {
      "text/plain": [
       "id                          0\n",
       "created_at                  0\n",
       "campaign_var_1              0\n",
       "campaign_var_2              0\n",
       "products_purchased      20911\n",
       "signup_date             15113\n",
       "user_activity_var_1         0\n",
       "user_activity_var_2         0\n",
       "user_activity_var_3         0\n",
       "user_activity_var_4         0\n",
       "user_activity_var_5         0\n",
       "user_activity_var_6         0\n",
       "user_activity_var_7         0\n",
       "user_activity_var_8         0\n",
       "user_activity_var_9         0\n",
       "user_activity_var_10        0\n",
       "user_activity_var_11        0\n",
       "user_activity_var_12        0\n",
       "buy                         0\n",
       "dtype: int64"
      ]
     },
     "execution_count": 9,
     "metadata": {},
     "output_type": "execute_result"
    }
   ],
   "source": [
    "train.isnull().sum()              # missing values in train data"
   ]
  },
  {
   "cell_type": "code",
   "execution_count": 10,
   "id": "4b24779f",
   "metadata": {},
   "outputs": [
    {
     "data": {
      "text/plain": [
       "id                         0\n",
       "created_at                 0\n",
       "campaign_var_1             0\n",
       "campaign_var_2             0\n",
       "products_purchased      8136\n",
       "signup_date             6649\n",
       "user_activity_var_1        0\n",
       "user_activity_var_2        0\n",
       "user_activity_var_3        0\n",
       "user_activity_var_4        0\n",
       "user_activity_var_5        0\n",
       "user_activity_var_6        0\n",
       "user_activity_var_7        0\n",
       "user_activity_var_8        0\n",
       "user_activity_var_9        0\n",
       "user_activity_var_10       0\n",
       "user_activity_var_11       0\n",
       "user_activity_var_12       0\n",
       "dtype: int64"
      ]
     },
     "execution_count": 10,
     "metadata": {},
     "output_type": "execute_result"
    }
   ],
   "source": [
    "test.isnull().sum()            #  sum of missing values in test data"
   ]
  },
  {
   "cell_type": "code",
   "execution_count": 11,
   "id": "e273b54b",
   "metadata": {},
   "outputs": [
    {
     "data": {
      "text/html": [
       "<div>\n",
       "<style scoped>\n",
       "    .dataframe tbody tr th:only-of-type {\n",
       "        vertical-align: middle;\n",
       "    }\n",
       "\n",
       "    .dataframe tbody tr th {\n",
       "        vertical-align: top;\n",
       "    }\n",
       "\n",
       "    .dataframe thead th {\n",
       "        text-align: right;\n",
       "    }\n",
       "</style>\n",
       "<table border=\"1\" class=\"dataframe\">\n",
       "  <thead>\n",
       "    <tr style=\"text-align: right;\">\n",
       "      <th></th>\n",
       "      <th>id</th>\n",
       "      <th>created_at</th>\n",
       "      <th>campaign_var_1</th>\n",
       "      <th>campaign_var_2</th>\n",
       "      <th>products_purchased</th>\n",
       "      <th>signup_date</th>\n",
       "      <th>user_activity_var_1</th>\n",
       "      <th>user_activity_var_2</th>\n",
       "      <th>user_activity_var_3</th>\n",
       "      <th>user_activity_var_4</th>\n",
       "      <th>user_activity_var_5</th>\n",
       "      <th>user_activity_var_6</th>\n",
       "      <th>user_activity_var_7</th>\n",
       "      <th>user_activity_var_8</th>\n",
       "      <th>user_activity_var_9</th>\n",
       "      <th>user_activity_var_10</th>\n",
       "      <th>user_activity_var_11</th>\n",
       "      <th>user_activity_var_12</th>\n",
       "      <th>buy</th>\n",
       "    </tr>\n",
       "  </thead>\n",
       "  <tbody>\n",
       "    <tr>\n",
       "      <th>0</th>\n",
       "      <td>1</td>\n",
       "      <td>2021-01-01</td>\n",
       "      <td>1</td>\n",
       "      <td>2</td>\n",
       "      <td>2.0</td>\n",
       "      <td>2020-09-24</td>\n",
       "      <td>0</td>\n",
       "      <td>0</td>\n",
       "      <td>0</td>\n",
       "      <td>0</td>\n",
       "      <td>0</td>\n",
       "      <td>0</td>\n",
       "      <td>1</td>\n",
       "      <td>1</td>\n",
       "      <td>0</td>\n",
       "      <td>0</td>\n",
       "      <td>0</td>\n",
       "      <td>0</td>\n",
       "      <td>0</td>\n",
       "    </tr>\n",
       "    <tr>\n",
       "      <th>1</th>\n",
       "      <td>2</td>\n",
       "      <td>2021-01-01</td>\n",
       "      <td>2</td>\n",
       "      <td>1</td>\n",
       "      <td>2.0</td>\n",
       "      <td>2020-09-19</td>\n",
       "      <td>1</td>\n",
       "      <td>0</td>\n",
       "      <td>1</td>\n",
       "      <td>0</td>\n",
       "      <td>0</td>\n",
       "      <td>0</td>\n",
       "      <td>1</td>\n",
       "      <td>0</td>\n",
       "      <td>0</td>\n",
       "      <td>0</td>\n",
       "      <td>0</td>\n",
       "      <td>0</td>\n",
       "      <td>0</td>\n",
       "    </tr>\n",
       "    <tr>\n",
       "      <th>2</th>\n",
       "      <td>3</td>\n",
       "      <td>2021-01-01</td>\n",
       "      <td>9</td>\n",
       "      <td>3</td>\n",
       "      <td>3.0</td>\n",
       "      <td>2021-08-11</td>\n",
       "      <td>1</td>\n",
       "      <td>0</td>\n",
       "      <td>0</td>\n",
       "      <td>0</td>\n",
       "      <td>0</td>\n",
       "      <td>0</td>\n",
       "      <td>0</td>\n",
       "      <td>0</td>\n",
       "      <td>0</td>\n",
       "      <td>0</td>\n",
       "      <td>0</td>\n",
       "      <td>0</td>\n",
       "      <td>0</td>\n",
       "    </tr>\n",
       "    <tr>\n",
       "      <th>3</th>\n",
       "      <td>4</td>\n",
       "      <td>2021-01-01</td>\n",
       "      <td>6</td>\n",
       "      <td>7</td>\n",
       "      <td>2.0</td>\n",
       "      <td>2017-10-04</td>\n",
       "      <td>0</td>\n",
       "      <td>0</td>\n",
       "      <td>0</td>\n",
       "      <td>0</td>\n",
       "      <td>0</td>\n",
       "      <td>0</td>\n",
       "      <td>0</td>\n",
       "      <td>0</td>\n",
       "      <td>0</td>\n",
       "      <td>0</td>\n",
       "      <td>0</td>\n",
       "      <td>0</td>\n",
       "      <td>0</td>\n",
       "    </tr>\n",
       "    <tr>\n",
       "      <th>4</th>\n",
       "      <td>5</td>\n",
       "      <td>2021-01-01</td>\n",
       "      <td>4</td>\n",
       "      <td>6</td>\n",
       "      <td>NaN</td>\n",
       "      <td>2020-06-08</td>\n",
       "      <td>0</td>\n",
       "      <td>0</td>\n",
       "      <td>0</td>\n",
       "      <td>0</td>\n",
       "      <td>0</td>\n",
       "      <td>0</td>\n",
       "      <td>1</td>\n",
       "      <td>0</td>\n",
       "      <td>0</td>\n",
       "      <td>0</td>\n",
       "      <td>1</td>\n",
       "      <td>0</td>\n",
       "      <td>0</td>\n",
       "    </tr>\n",
       "  </tbody>\n",
       "</table>\n",
       "</div>"
      ],
      "text/plain": [
       "   id  created_at  campaign_var_1  campaign_var_2  products_purchased  \\\n",
       "0   1  2021-01-01               1               2                 2.0   \n",
       "1   2  2021-01-01               2               1                 2.0   \n",
       "2   3  2021-01-01               9               3                 3.0   \n",
       "3   4  2021-01-01               6               7                 2.0   \n",
       "4   5  2021-01-01               4               6                 NaN   \n",
       "\n",
       "  signup_date  user_activity_var_1  user_activity_var_2  user_activity_var_3  \\\n",
       "0  2020-09-24                    0                    0                    0   \n",
       "1  2020-09-19                    1                    0                    1   \n",
       "2  2021-08-11                    1                    0                    0   \n",
       "3  2017-10-04                    0                    0                    0   \n",
       "4  2020-06-08                    0                    0                    0   \n",
       "\n",
       "   user_activity_var_4  user_activity_var_5  user_activity_var_6  \\\n",
       "0                    0                    0                    0   \n",
       "1                    0                    0                    0   \n",
       "2                    0                    0                    0   \n",
       "3                    0                    0                    0   \n",
       "4                    0                    0                    0   \n",
       "\n",
       "   user_activity_var_7  user_activity_var_8  user_activity_var_9  \\\n",
       "0                    1                    1                    0   \n",
       "1                    1                    0                    0   \n",
       "2                    0                    0                    0   \n",
       "3                    0                    0                    0   \n",
       "4                    1                    0                    0   \n",
       "\n",
       "   user_activity_var_10  user_activity_var_11  user_activity_var_12  buy  \n",
       "0                     0                     0                     0    0  \n",
       "1                     0                     0                     0    0  \n",
       "2                     0                     0                     0    0  \n",
       "3                     0                     0                     0    0  \n",
       "4                     0                     1                     0    0  "
      ]
     },
     "execution_count": 11,
     "metadata": {},
     "output_type": "execute_result"
    }
   ],
   "source": [
    "train.head()  # first 5 rows of train data"
   ]
  },
  {
   "cell_type": "code",
   "execution_count": 12,
   "id": "77e1e182",
   "metadata": {},
   "outputs": [
    {
     "data": {
      "text/html": [
       "<div>\n",
       "<style scoped>\n",
       "    .dataframe tbody tr th:only-of-type {\n",
       "        vertical-align: middle;\n",
       "    }\n",
       "\n",
       "    .dataframe tbody tr th {\n",
       "        vertical-align: top;\n",
       "    }\n",
       "\n",
       "    .dataframe thead th {\n",
       "        text-align: right;\n",
       "    }\n",
       "</style>\n",
       "<table border=\"1\" class=\"dataframe\">\n",
       "  <thead>\n",
       "    <tr style=\"text-align: right;\">\n",
       "      <th></th>\n",
       "      <th>id</th>\n",
       "      <th>created_at</th>\n",
       "      <th>campaign_var_1</th>\n",
       "      <th>campaign_var_2</th>\n",
       "      <th>products_purchased</th>\n",
       "      <th>signup_date</th>\n",
       "      <th>user_activity_var_1</th>\n",
       "      <th>user_activity_var_2</th>\n",
       "      <th>user_activity_var_3</th>\n",
       "      <th>user_activity_var_4</th>\n",
       "      <th>user_activity_var_5</th>\n",
       "      <th>user_activity_var_6</th>\n",
       "      <th>user_activity_var_7</th>\n",
       "      <th>user_activity_var_8</th>\n",
       "      <th>user_activity_var_9</th>\n",
       "      <th>user_activity_var_10</th>\n",
       "      <th>user_activity_var_11</th>\n",
       "      <th>user_activity_var_12</th>\n",
       "    </tr>\n",
       "  </thead>\n",
       "  <tbody>\n",
       "    <tr>\n",
       "      <th>0</th>\n",
       "      <td>39162</td>\n",
       "      <td>2022-01-01</td>\n",
       "      <td>2</td>\n",
       "      <td>2</td>\n",
       "      <td>NaN</td>\n",
       "      <td>2021-08-17</td>\n",
       "      <td>1</td>\n",
       "      <td>1</td>\n",
       "      <td>0</td>\n",
       "      <td>0</td>\n",
       "      <td>0</td>\n",
       "      <td>1</td>\n",
       "      <td>0</td>\n",
       "      <td>0</td>\n",
       "      <td>0</td>\n",
       "      <td>0</td>\n",
       "      <td>1</td>\n",
       "      <td>0</td>\n",
       "    </tr>\n",
       "    <tr>\n",
       "      <th>1</th>\n",
       "      <td>39163</td>\n",
       "      <td>2022-01-01</td>\n",
       "      <td>4</td>\n",
       "      <td>7</td>\n",
       "      <td>3.0</td>\n",
       "      <td>2020-05-21</td>\n",
       "      <td>1</td>\n",
       "      <td>0</td>\n",
       "      <td>0</td>\n",
       "      <td>0</td>\n",
       "      <td>0</td>\n",
       "      <td>0</td>\n",
       "      <td>0</td>\n",
       "      <td>1</td>\n",
       "      <td>0</td>\n",
       "      <td>0</td>\n",
       "      <td>0</td>\n",
       "      <td>0</td>\n",
       "    </tr>\n",
       "    <tr>\n",
       "      <th>2</th>\n",
       "      <td>39164</td>\n",
       "      <td>2022-01-01</td>\n",
       "      <td>8</td>\n",
       "      <td>7</td>\n",
       "      <td>NaN</td>\n",
       "      <td>NaN</td>\n",
       "      <td>0</td>\n",
       "      <td>0</td>\n",
       "      <td>0</td>\n",
       "      <td>0</td>\n",
       "      <td>1</td>\n",
       "      <td>1</td>\n",
       "      <td>0</td>\n",
       "      <td>0</td>\n",
       "      <td>0</td>\n",
       "      <td>0</td>\n",
       "      <td>0</td>\n",
       "      <td>0</td>\n",
       "    </tr>\n",
       "    <tr>\n",
       "      <th>3</th>\n",
       "      <td>39165</td>\n",
       "      <td>2022-01-01</td>\n",
       "      <td>9</td>\n",
       "      <td>8</td>\n",
       "      <td>2.0</td>\n",
       "      <td>2020-06-22</td>\n",
       "      <td>0</td>\n",
       "      <td>0</td>\n",
       "      <td>0</td>\n",
       "      <td>0</td>\n",
       "      <td>1</td>\n",
       "      <td>1</td>\n",
       "      <td>1</td>\n",
       "      <td>0</td>\n",
       "      <td>0</td>\n",
       "      <td>0</td>\n",
       "      <td>2</td>\n",
       "      <td>0</td>\n",
       "    </tr>\n",
       "    <tr>\n",
       "      <th>4</th>\n",
       "      <td>39166</td>\n",
       "      <td>2022-01-01</td>\n",
       "      <td>4</td>\n",
       "      <td>5</td>\n",
       "      <td>2.0</td>\n",
       "      <td>2021-03-10</td>\n",
       "      <td>1</td>\n",
       "      <td>0</td>\n",
       "      <td>0</td>\n",
       "      <td>0</td>\n",
       "      <td>0</td>\n",
       "      <td>0</td>\n",
       "      <td>0</td>\n",
       "      <td>0</td>\n",
       "      <td>0</td>\n",
       "      <td>0</td>\n",
       "      <td>0</td>\n",
       "      <td>0</td>\n",
       "    </tr>\n",
       "  </tbody>\n",
       "</table>\n",
       "</div>"
      ],
      "text/plain": [
       "      id  created_at  campaign_var_1  campaign_var_2  products_purchased  \\\n",
       "0  39162  2022-01-01               2               2                 NaN   \n",
       "1  39163  2022-01-01               4               7                 3.0   \n",
       "2  39164  2022-01-01               8               7                 NaN   \n",
       "3  39165  2022-01-01               9               8                 2.0   \n",
       "4  39166  2022-01-01               4               5                 2.0   \n",
       "\n",
       "  signup_date  user_activity_var_1  user_activity_var_2  user_activity_var_3  \\\n",
       "0  2021-08-17                    1                    1                    0   \n",
       "1  2020-05-21                    1                    0                    0   \n",
       "2         NaN                    0                    0                    0   \n",
       "3  2020-06-22                    0                    0                    0   \n",
       "4  2021-03-10                    1                    0                    0   \n",
       "\n",
       "   user_activity_var_4  user_activity_var_5  user_activity_var_6  \\\n",
       "0                    0                    0                    1   \n",
       "1                    0                    0                    0   \n",
       "2                    0                    1                    1   \n",
       "3                    0                    1                    1   \n",
       "4                    0                    0                    0   \n",
       "\n",
       "   user_activity_var_7  user_activity_var_8  user_activity_var_9  \\\n",
       "0                    0                    0                    0   \n",
       "1                    0                    1                    0   \n",
       "2                    0                    0                    0   \n",
       "3                    1                    0                    0   \n",
       "4                    0                    0                    0   \n",
       "\n",
       "   user_activity_var_10  user_activity_var_11  user_activity_var_12  \n",
       "0                     0                     1                     0  \n",
       "1                     0                     0                     0  \n",
       "2                     0                     0                     0  \n",
       "3                     0                     2                     0  \n",
       "4                     0                     0                     0  "
      ]
     },
     "execution_count": 12,
     "metadata": {},
     "output_type": "execute_result"
    }
   ],
   "source": [
    "test.head()  # first 5 rows of test data"
   ]
  },
  {
   "cell_type": "code",
   "execution_count": 13,
   "id": "686c814d",
   "metadata": {},
   "outputs": [
    {
     "name": "stdout",
     "output_type": "stream",
     "text": [
      "<class 'pandas.core.frame.DataFrame'>\n",
      "RangeIndex: 39161 entries, 0 to 39160\n",
      "Data columns (total 19 columns):\n",
      " #   Column                Non-Null Count  Dtype  \n",
      "---  ------                --------------  -----  \n",
      " 0   id                    39161 non-null  int64  \n",
      " 1   created_at            39161 non-null  object \n",
      " 2   campaign_var_1        39161 non-null  int64  \n",
      " 3   campaign_var_2        39161 non-null  int64  \n",
      " 4   products_purchased    18250 non-null  float64\n",
      " 5   signup_date           24048 non-null  object \n",
      " 6   user_activity_var_1   39161 non-null  int64  \n",
      " 7   user_activity_var_2   39161 non-null  int64  \n",
      " 8   user_activity_var_3   39161 non-null  int64  \n",
      " 9   user_activity_var_4   39161 non-null  int64  \n",
      " 10  user_activity_var_5   39161 non-null  int64  \n",
      " 11  user_activity_var_6   39161 non-null  int64  \n",
      " 12  user_activity_var_7   39161 non-null  int64  \n",
      " 13  user_activity_var_8   39161 non-null  int64  \n",
      " 14  user_activity_var_9   39161 non-null  int64  \n",
      " 15  user_activity_var_10  39161 non-null  int64  \n",
      " 16  user_activity_var_11  39161 non-null  int64  \n",
      " 17  user_activity_var_12  39161 non-null  int64  \n",
      " 18  buy                   39161 non-null  int64  \n",
      "dtypes: float64(1), int64(16), object(2)\n",
      "memory usage: 5.7+ MB\n"
     ]
    }
   ],
   "source": [
    "train.info()   # data types of train along with null values count"
   ]
  },
  {
   "cell_type": "code",
   "execution_count": 14,
   "id": "e65a156a",
   "metadata": {},
   "outputs": [
    {
     "name": "stdout",
     "output_type": "stream",
     "text": [
      "<class 'pandas.core.frame.DataFrame'>\n",
      "RangeIndex: 13184 entries, 0 to 13183\n",
      "Data columns (total 18 columns):\n",
      " #   Column                Non-Null Count  Dtype  \n",
      "---  ------                --------------  -----  \n",
      " 0   id                    13184 non-null  int64  \n",
      " 1   created_at            13184 non-null  object \n",
      " 2   campaign_var_1        13184 non-null  int64  \n",
      " 3   campaign_var_2        13184 non-null  int64  \n",
      " 4   products_purchased    5048 non-null   float64\n",
      " 5   signup_date           6535 non-null   object \n",
      " 6   user_activity_var_1   13184 non-null  int64  \n",
      " 7   user_activity_var_2   13184 non-null  int64  \n",
      " 8   user_activity_var_3   13184 non-null  int64  \n",
      " 9   user_activity_var_4   13184 non-null  int64  \n",
      " 10  user_activity_var_5   13184 non-null  int64  \n",
      " 11  user_activity_var_6   13184 non-null  int64  \n",
      " 12  user_activity_var_7   13184 non-null  int64  \n",
      " 13  user_activity_var_8   13184 non-null  int64  \n",
      " 14  user_activity_var_9   13184 non-null  int64  \n",
      " 15  user_activity_var_10  13184 non-null  int64  \n",
      " 16  user_activity_var_11  13184 non-null  int64  \n",
      " 17  user_activity_var_12  13184 non-null  int64  \n",
      "dtypes: float64(1), int64(15), object(2)\n",
      "memory usage: 1.8+ MB\n"
     ]
    }
   ],
   "source": [
    "test.info()   # data types of test along with null values count"
   ]
  },
  {
   "cell_type": "markdown",
   "id": "0cb13fcc",
   "metadata": {},
   "source": [
    "## Data Munging\n",
    "It is type conversion for variables in larger datasets.Here signup_date,created_at should be timestamp format in test & train data.products_purchased in train & test datasets is categorical discrete value. It has missing values in larger quantity, so we have to replace null values with mode after convert to int.signup_date also have missing values. As it is also categorical ,missing values replace by mode\n"
   ]
  },
  {
   "cell_type": "code",
   "execution_count": 15,
   "id": "83839ccb",
   "metadata": {},
   "outputs": [],
   "source": [
    "train['signup_date']= pd.to_datetime(train['signup_date'],format='%Y/%m/%d')   # convert to timestamp or datetime format"
   ]
  },
  {
   "cell_type": "code",
   "execution_count": 16,
   "id": "5eda0499",
   "metadata": {},
   "outputs": [],
   "source": [
    "train['created_at']= pd.to_datetime(train['created_at'],format='%Y/%m/%d')     # convert to timestamp or datetime format"
   ]
  },
  {
   "cell_type": "code",
   "execution_count": 17,
   "id": "f502c388",
   "metadata": {},
   "outputs": [],
   "source": [
    "train['signup_date']=train['signup_date'].fillna(train['signup_date'].mode()[0])     # fill null values with mode"
   ]
  },
  {
   "cell_type": "code",
   "execution_count": 18,
   "id": "07d5e76b",
   "metadata": {},
   "outputs": [
    {
     "data": {
      "text/plain": [
       "0"
      ]
     },
     "execution_count": 18,
     "metadata": {},
     "output_type": "execute_result"
    }
   ],
   "source": [
    "train['signup_date'].isnull().sum()"
   ]
  },
  {
   "cell_type": "code",
   "execution_count": 19,
   "id": "1dc5dccc",
   "metadata": {},
   "outputs": [
    {
     "data": {
      "text/plain": [
       "0.22080299865669342"
      ]
     },
     "execution_count": 19,
     "metadata": {},
     "output_type": "execute_result"
    }
   ],
   "source": [
    "train['products_purchased'].skew()"
   ]
  },
  {
   "cell_type": "code",
   "execution_count": 20,
   "id": "389bd2d1",
   "metadata": {},
   "outputs": [
    {
     "ename": "SyntaxError",
     "evalue": "invalid syntax (Temp/ipykernel_10068/3175647892.py, line 1)",
     "output_type": "error",
     "traceback": [
      "\u001b[1;36m  File \u001b[1;32m\"C:\\Users\\Hp\\AppData\\Local\\Temp/ipykernel_10068/3175647892.py\"\u001b[1;36m, line \u001b[1;32m1\u001b[0m\n\u001b[1;33m    Here skewness shows approximately symmetric. so we take mean value to replace missing values\u001b[0m\n\u001b[1;37m         ^\u001b[0m\n\u001b[1;31mSyntaxError\u001b[0m\u001b[1;31m:\u001b[0m invalid syntax\n"
     ]
    }
   ],
   "source": [
    "Here skewness shows approximately symmetric. so we take mean value to replace missing values"
   ]
  },
  {
   "cell_type": "code",
   "execution_count": 21,
   "id": "ce04d27c",
   "metadata": {},
   "outputs": [],
   "source": [
    "train['products_purchased']=train['products_purchased'].fillna(train['products_purchased'].mean()).astype('int')  #fill null with mode"
   ]
  },
  {
   "cell_type": "code",
   "execution_count": 22,
   "id": "79305e5a",
   "metadata": {},
   "outputs": [
    {
     "data": {
      "text/plain": [
       "0    2\n",
       "1    2\n",
       "2    3\n",
       "3    2\n",
       "4    2\n",
       "Name: products_purchased, dtype: int32"
      ]
     },
     "execution_count": 22,
     "metadata": {},
     "output_type": "execute_result"
    }
   ],
   "source": [
    "train['products_purchased'].head()   # to verify conversion"
   ]
  },
  {
   "cell_type": "code",
   "execution_count": 23,
   "id": "b42d6aa1",
   "metadata": {},
   "outputs": [],
   "source": [
    "test['signup_date']=test['signup_date'].fillna(test['signup_date'].mode()[0])    #fill null values with mode"
   ]
  },
  {
   "cell_type": "code",
   "execution_count": 24,
   "id": "23dfbeae",
   "metadata": {},
   "outputs": [
    {
     "data": {
      "text/plain": [
       "0"
      ]
     },
     "execution_count": 24,
     "metadata": {},
     "output_type": "execute_result"
    }
   ],
   "source": [
    "test['signup_date'].isnull().sum()"
   ]
  },
  {
   "cell_type": "code",
   "execution_count": 25,
   "id": "71522439",
   "metadata": {},
   "outputs": [],
   "source": [
    "test['products_purchased']=test['products_purchased'].fillna(test['products_purchased'].mean()).astype('int')  # fill null with mode"
   ]
  },
  {
   "cell_type": "code",
   "execution_count": 26,
   "id": "329501a4",
   "metadata": {},
   "outputs": [
    {
     "data": {
      "text/plain": [
       "0    2\n",
       "1    3\n",
       "2    2\n",
       "3    2\n",
       "4    2\n",
       "Name: products_purchased, dtype: int32"
      ]
     },
     "execution_count": 26,
     "metadata": {},
     "output_type": "execute_result"
    }
   ],
   "source": [
    "test['products_purchased'].head()"
   ]
  },
  {
   "cell_type": "code",
   "execution_count": 27,
   "id": "d7a0c5ba",
   "metadata": {},
   "outputs": [],
   "source": [
    "test['created_at']= pd.to_datetime(test['created_at'],format='%Y/%m/%d')    # convert to timestamp or datetime format"
   ]
  },
  {
   "cell_type": "code",
   "execution_count": 28,
   "id": "4539fb43",
   "metadata": {},
   "outputs": [],
   "source": [
    "test['signup_date']= pd.to_datetime(test['signup_date'],format='%Y/%m/%d')    # convert to timestamp or datetime format"
   ]
  },
  {
   "cell_type": "code",
   "execution_count": 29,
   "id": "dd59172d",
   "metadata": {},
   "outputs": [],
   "source": [
    "train['id'] = train['id'].astype('category')  # id is unique number has no order\n",
    "test['id'] = test['id'].astype('category')"
   ]
  },
  {
   "cell_type": "code",
   "execution_count": 30,
   "id": "0a6e2910",
   "metadata": {},
   "outputs": [
    {
     "name": "stdout",
     "output_type": "stream",
     "text": [
      "<class 'pandas.core.frame.DataFrame'>\n",
      "RangeIndex: 39161 entries, 0 to 39160\n",
      "Data columns (total 19 columns):\n",
      " #   Column                Non-Null Count  Dtype         \n",
      "---  ------                --------------  -----         \n",
      " 0   id                    39161 non-null  category      \n",
      " 1   created_at            39161 non-null  datetime64[ns]\n",
      " 2   campaign_var_1        39161 non-null  int64         \n",
      " 3   campaign_var_2        39161 non-null  int64         \n",
      " 4   products_purchased    39161 non-null  int32         \n",
      " 5   signup_date           39161 non-null  datetime64[ns]\n",
      " 6   user_activity_var_1   39161 non-null  int64         \n",
      " 7   user_activity_var_2   39161 non-null  int64         \n",
      " 8   user_activity_var_3   39161 non-null  int64         \n",
      " 9   user_activity_var_4   39161 non-null  int64         \n",
      " 10  user_activity_var_5   39161 non-null  int64         \n",
      " 11  user_activity_var_6   39161 non-null  int64         \n",
      " 12  user_activity_var_7   39161 non-null  int64         \n",
      " 13  user_activity_var_8   39161 non-null  int64         \n",
      " 14  user_activity_var_9   39161 non-null  int64         \n",
      " 15  user_activity_var_10  39161 non-null  int64         \n",
      " 16  user_activity_var_11  39161 non-null  int64         \n",
      " 17  user_activity_var_12  39161 non-null  int64         \n",
      " 18  buy                   39161 non-null  int64         \n",
      "dtypes: category(1), datetime64[ns](2), int32(1), int64(15)\n",
      "memory usage: 6.7 MB\n"
     ]
    }
   ],
   "source": [
    "train.info()   # after conversion verify datatypes & non-null count"
   ]
  },
  {
   "cell_type": "code",
   "execution_count": 31,
   "id": "0981e8b6",
   "metadata": {},
   "outputs": [
    {
     "name": "stdout",
     "output_type": "stream",
     "text": [
      "<class 'pandas.core.frame.DataFrame'>\n",
      "RangeIndex: 13184 entries, 0 to 13183\n",
      "Data columns (total 18 columns):\n",
      " #   Column                Non-Null Count  Dtype         \n",
      "---  ------                --------------  -----         \n",
      " 0   id                    13184 non-null  category      \n",
      " 1   created_at            13184 non-null  datetime64[ns]\n",
      " 2   campaign_var_1        13184 non-null  int64         \n",
      " 3   campaign_var_2        13184 non-null  int64         \n",
      " 4   products_purchased    13184 non-null  int32         \n",
      " 5   signup_date           13184 non-null  datetime64[ns]\n",
      " 6   user_activity_var_1   13184 non-null  int64         \n",
      " 7   user_activity_var_2   13184 non-null  int64         \n",
      " 8   user_activity_var_3   13184 non-null  int64         \n",
      " 9   user_activity_var_4   13184 non-null  int64         \n",
      " 10  user_activity_var_5   13184 non-null  int64         \n",
      " 11  user_activity_var_6   13184 non-null  int64         \n",
      " 12  user_activity_var_7   13184 non-null  int64         \n",
      " 13  user_activity_var_8   13184 non-null  int64         \n",
      " 14  user_activity_var_9   13184 non-null  int64         \n",
      " 15  user_activity_var_10  13184 non-null  int64         \n",
      " 16  user_activity_var_11  13184 non-null  int64         \n",
      " 17  user_activity_var_12  13184 non-null  int64         \n",
      "dtypes: category(1), datetime64[ns](2), int32(1), int64(14)\n",
      "memory usage: 2.3 MB\n"
     ]
    }
   ],
   "source": [
    "test.info()     # after conversion verify datatypes & non-null count"
   ]
  },
  {
   "cell_type": "markdown",
   "id": "cbb7174f",
   "metadata": {},
   "source": [
    "## EDA \n",
    "### Data analysis"
   ]
  },
  {
   "cell_type": "code",
   "execution_count": 32,
   "id": "62160434",
   "metadata": {
    "scrolled": true
   },
   "outputs": [
    {
     "data": {
      "text/html": [
       "<div>\n",
       "<style scoped>\n",
       "    .dataframe tbody tr th:only-of-type {\n",
       "        vertical-align: middle;\n",
       "    }\n",
       "\n",
       "    .dataframe tbody tr th {\n",
       "        vertical-align: top;\n",
       "    }\n",
       "\n",
       "    .dataframe thead th {\n",
       "        text-align: right;\n",
       "    }\n",
       "</style>\n",
       "<table border=\"1\" class=\"dataframe\">\n",
       "  <thead>\n",
       "    <tr style=\"text-align: right;\">\n",
       "      <th></th>\n",
       "      <th>campaign_var_1</th>\n",
       "      <th>campaign_var_2</th>\n",
       "      <th>products_purchased</th>\n",
       "      <th>user_activity_var_1</th>\n",
       "      <th>user_activity_var_2</th>\n",
       "      <th>user_activity_var_3</th>\n",
       "      <th>user_activity_var_4</th>\n",
       "      <th>user_activity_var_5</th>\n",
       "      <th>user_activity_var_6</th>\n",
       "      <th>user_activity_var_7</th>\n",
       "      <th>user_activity_var_8</th>\n",
       "      <th>user_activity_var_9</th>\n",
       "      <th>user_activity_var_10</th>\n",
       "      <th>user_activity_var_11</th>\n",
       "      <th>user_activity_var_12</th>\n",
       "      <th>buy</th>\n",
       "    </tr>\n",
       "  </thead>\n",
       "  <tbody>\n",
       "    <tr>\n",
       "      <th>count</th>\n",
       "      <td>39161.000000</td>\n",
       "      <td>39161.000000</td>\n",
       "      <td>39161.000000</td>\n",
       "      <td>39161.000000</td>\n",
       "      <td>39161.000000</td>\n",
       "      <td>39161.000000</td>\n",
       "      <td>39161.000000</td>\n",
       "      <td>39161.000000</td>\n",
       "      <td>39161.000000</td>\n",
       "      <td>39161.000000</td>\n",
       "      <td>39161.000000</td>\n",
       "      <td>39161.000000</td>\n",
       "      <td>39161.000000</td>\n",
       "      <td>39161.000000</td>\n",
       "      <td>39161.000000</td>\n",
       "      <td>39161.000000</td>\n",
       "    </tr>\n",
       "    <tr>\n",
       "      <th>mean</th>\n",
       "      <td>6.523812</td>\n",
       "      <td>6.452746</td>\n",
       "      <td>2.071832</td>\n",
       "      <td>0.400092</td>\n",
       "      <td>0.006716</td>\n",
       "      <td>0.102832</td>\n",
       "      <td>0.011465</td>\n",
       "      <td>0.151503</td>\n",
       "      <td>0.499834</td>\n",
       "      <td>0.286612</td>\n",
       "      <td>0.174434</td>\n",
       "      <td>0.011440</td>\n",
       "      <td>0.000383</td>\n",
       "      <td>0.218942</td>\n",
       "      <td>0.000562</td>\n",
       "      <td>0.051020</td>\n",
       "    </tr>\n",
       "    <tr>\n",
       "      <th>std</th>\n",
       "      <td>3.472944</td>\n",
       "      <td>2.614296</td>\n",
       "      <td>0.537865</td>\n",
       "      <td>0.509194</td>\n",
       "      <td>0.081676</td>\n",
       "      <td>0.303743</td>\n",
       "      <td>0.106463</td>\n",
       "      <td>0.359681</td>\n",
       "      <td>0.558166</td>\n",
       "      <td>0.455784</td>\n",
       "      <td>0.379689</td>\n",
       "      <td>0.106346</td>\n",
       "      <td>0.019568</td>\n",
       "      <td>0.431544</td>\n",
       "      <td>0.023696</td>\n",
       "      <td>0.220042</td>\n",
       "    </tr>\n",
       "    <tr>\n",
       "      <th>min</th>\n",
       "      <td>1.000000</td>\n",
       "      <td>1.000000</td>\n",
       "      <td>1.000000</td>\n",
       "      <td>0.000000</td>\n",
       "      <td>0.000000</td>\n",
       "      <td>0.000000</td>\n",
       "      <td>0.000000</td>\n",
       "      <td>0.000000</td>\n",
       "      <td>0.000000</td>\n",
       "      <td>0.000000</td>\n",
       "      <td>0.000000</td>\n",
       "      <td>0.000000</td>\n",
       "      <td>0.000000</td>\n",
       "      <td>0.000000</td>\n",
       "      <td>0.000000</td>\n",
       "      <td>0.000000</td>\n",
       "    </tr>\n",
       "    <tr>\n",
       "      <th>25%</th>\n",
       "      <td>4.000000</td>\n",
       "      <td>5.000000</td>\n",
       "      <td>2.000000</td>\n",
       "      <td>0.000000</td>\n",
       "      <td>0.000000</td>\n",
       "      <td>0.000000</td>\n",
       "      <td>0.000000</td>\n",
       "      <td>0.000000</td>\n",
       "      <td>0.000000</td>\n",
       "      <td>0.000000</td>\n",
       "      <td>0.000000</td>\n",
       "      <td>0.000000</td>\n",
       "      <td>0.000000</td>\n",
       "      <td>0.000000</td>\n",
       "      <td>0.000000</td>\n",
       "      <td>0.000000</td>\n",
       "    </tr>\n",
       "    <tr>\n",
       "      <th>50%</th>\n",
       "      <td>6.000000</td>\n",
       "      <td>6.000000</td>\n",
       "      <td>2.000000</td>\n",
       "      <td>0.000000</td>\n",
       "      <td>0.000000</td>\n",
       "      <td>0.000000</td>\n",
       "      <td>0.000000</td>\n",
       "      <td>0.000000</td>\n",
       "      <td>0.000000</td>\n",
       "      <td>0.000000</td>\n",
       "      <td>0.000000</td>\n",
       "      <td>0.000000</td>\n",
       "      <td>0.000000</td>\n",
       "      <td>0.000000</td>\n",
       "      <td>0.000000</td>\n",
       "      <td>0.000000</td>\n",
       "    </tr>\n",
       "    <tr>\n",
       "      <th>75%</th>\n",
       "      <td>9.000000</td>\n",
       "      <td>8.000000</td>\n",
       "      <td>2.000000</td>\n",
       "      <td>1.000000</td>\n",
       "      <td>0.000000</td>\n",
       "      <td>0.000000</td>\n",
       "      <td>0.000000</td>\n",
       "      <td>0.000000</td>\n",
       "      <td>1.000000</td>\n",
       "      <td>1.000000</td>\n",
       "      <td>0.000000</td>\n",
       "      <td>0.000000</td>\n",
       "      <td>0.000000</td>\n",
       "      <td>0.000000</td>\n",
       "      <td>0.000000</td>\n",
       "      <td>0.000000</td>\n",
       "    </tr>\n",
       "    <tr>\n",
       "      <th>max</th>\n",
       "      <td>16.000000</td>\n",
       "      <td>15.000000</td>\n",
       "      <td>4.000000</td>\n",
       "      <td>3.000000</td>\n",
       "      <td>1.000000</td>\n",
       "      <td>1.000000</td>\n",
       "      <td>1.000000</td>\n",
       "      <td>2.000000</td>\n",
       "      <td>3.000000</td>\n",
       "      <td>2.000000</td>\n",
       "      <td>2.000000</td>\n",
       "      <td>1.000000</td>\n",
       "      <td>1.000000</td>\n",
       "      <td>4.000000</td>\n",
       "      <td>1.000000</td>\n",
       "      <td>1.000000</td>\n",
       "    </tr>\n",
       "  </tbody>\n",
       "</table>\n",
       "</div>"
      ],
      "text/plain": [
       "       campaign_var_1  campaign_var_2  products_purchased  \\\n",
       "count    39161.000000    39161.000000        39161.000000   \n",
       "mean         6.523812        6.452746            2.071832   \n",
       "std          3.472944        2.614296            0.537865   \n",
       "min          1.000000        1.000000            1.000000   \n",
       "25%          4.000000        5.000000            2.000000   \n",
       "50%          6.000000        6.000000            2.000000   \n",
       "75%          9.000000        8.000000            2.000000   \n",
       "max         16.000000       15.000000            4.000000   \n",
       "\n",
       "       user_activity_var_1  user_activity_var_2  user_activity_var_3  \\\n",
       "count         39161.000000         39161.000000         39161.000000   \n",
       "mean              0.400092             0.006716             0.102832   \n",
       "std               0.509194             0.081676             0.303743   \n",
       "min               0.000000             0.000000             0.000000   \n",
       "25%               0.000000             0.000000             0.000000   \n",
       "50%               0.000000             0.000000             0.000000   \n",
       "75%               1.000000             0.000000             0.000000   \n",
       "max               3.000000             1.000000             1.000000   \n",
       "\n",
       "       user_activity_var_4  user_activity_var_5  user_activity_var_6  \\\n",
       "count         39161.000000         39161.000000         39161.000000   \n",
       "mean              0.011465             0.151503             0.499834   \n",
       "std               0.106463             0.359681             0.558166   \n",
       "min               0.000000             0.000000             0.000000   \n",
       "25%               0.000000             0.000000             0.000000   \n",
       "50%               0.000000             0.000000             0.000000   \n",
       "75%               0.000000             0.000000             1.000000   \n",
       "max               1.000000             2.000000             3.000000   \n",
       "\n",
       "       user_activity_var_7  user_activity_var_8  user_activity_var_9  \\\n",
       "count         39161.000000         39161.000000         39161.000000   \n",
       "mean              0.286612             0.174434             0.011440   \n",
       "std               0.455784             0.379689             0.106346   \n",
       "min               0.000000             0.000000             0.000000   \n",
       "25%               0.000000             0.000000             0.000000   \n",
       "50%               0.000000             0.000000             0.000000   \n",
       "75%               1.000000             0.000000             0.000000   \n",
       "max               2.000000             2.000000             1.000000   \n",
       "\n",
       "       user_activity_var_10  user_activity_var_11  user_activity_var_12  \\\n",
       "count          39161.000000          39161.000000          39161.000000   \n",
       "mean               0.000383              0.218942              0.000562   \n",
       "std                0.019568              0.431544              0.023696   \n",
       "min                0.000000              0.000000              0.000000   \n",
       "25%                0.000000              0.000000              0.000000   \n",
       "50%                0.000000              0.000000              0.000000   \n",
       "75%                0.000000              0.000000              0.000000   \n",
       "max                1.000000              4.000000              1.000000   \n",
       "\n",
       "                buy  \n",
       "count  39161.000000  \n",
       "mean       0.051020  \n",
       "std        0.220042  \n",
       "min        0.000000  \n",
       "25%        0.000000  \n",
       "50%        0.000000  \n",
       "75%        0.000000  \n",
       "max        1.000000  "
      ]
     },
     "execution_count": 32,
     "metadata": {},
     "output_type": "execute_result"
    }
   ],
   "source": [
    "# statistical analysis\n",
    "train.describe()"
   ]
  },
  {
   "cell_type": "code",
   "execution_count": 33,
   "id": "a8c5b897",
   "metadata": {},
   "outputs": [
    {
     "name": "stderr",
     "output_type": "stream",
     "text": [
      "C:\\Users\\Hp\\AppData\\Local\\Temp/ipykernel_10068/3844844585.py:1: FutureWarning: Dropping of nuisance columns in DataFrame reductions (with 'numeric_only=None') is deprecated; in a future version this will raise TypeError.  Select only valid columns before calling the reduction.\n",
      "  train.skew()  # to check distribution of data\n"
     ]
    },
    {
     "data": {
      "text/plain": [
       "campaign_var_1           0.453380\n",
       "campaign_var_2           0.242095\n",
       "products_purchased       0.763673\n",
       "user_activity_var_1      0.626940\n",
       "user_activity_var_2     12.079697\n",
       "user_activity_var_3      2.615292\n",
       "user_activity_var_4      9.178034\n",
       "user_activity_var_5      1.970378\n",
       "user_activity_var_6      0.544753\n",
       "user_activity_var_7      0.995556\n",
       "user_activity_var_8      1.720109\n",
       "user_activity_var_9      9.188634\n",
       "user_activity_var_10    51.067930\n",
       "user_activity_var_11     1.691419\n",
       "user_activity_var_12    42.156638\n",
       "buy                      4.081071\n",
       "dtype: float64"
      ]
     },
     "execution_count": 33,
     "metadata": {},
     "output_type": "execute_result"
    }
   ],
   "source": [
    "train.skew()  # to check distribution of data"
   ]
  },
  {
   "cell_type": "markdown",
   "id": "72772f1a",
   "metadata": {},
   "source": [
    "|column| skewness| symmetric or skewed|\n",
    "---|---|---|\n",
    "|campaign_var_1 |0.45| approx symmetric|\n",
    "|campaign_var_2|0.24|approx symmetric|\n",
    "|products_purchased|0.7|slightly skewed|\n",
    "|user_activity_var_1|0.6| slightly skewed|\n",
    "user_activity_var_2|12.0| completely skewed|\n",
    "|user_activity_var_3|2.6|completely skewed|\n",
    "user_activity_var_4|9.17| completely skewed|\n",
    "|user_activity_var_5|1.97|completely skewed|\n",
    "user_activity_var_6|0.5| slightly skewed|\n",
    "|user_activity_var_7|0.9|slightly skewed|\n",
    "user_activity_var_8|1.72| completely skewed|\n",
    "|user_activity_var_9|9.18|completely skewed|\n",
    "user_activity_var_10|51.06| completely skewed|\n",
    "|user_activity_var_11|1.69|completely skewed|\n",
    "user_activity_var_12|42.15| completely skewed|\n",
    "|buy|4.0|completely skewed|\n",
    "\n",
    "From the skweness values, we can say daatset is almost skewed, so we need to perform normalization"
   ]
  },
  {
   "cell_type": "code",
   "execution_count": 34,
   "id": "547e76aa",
   "metadata": {},
   "outputs": [
    {
     "name": "stderr",
     "output_type": "stream",
     "text": [
      "C:\\Users\\Hp\\AppData\\Local\\Temp/ipykernel_10068/822390299.py:1: FutureWarning: DataFrame.mean and DataFrame.median with numeric_only=None will include datetime64 and datetime64tz columns in a future version.\n",
      "  train.median()     # for skewed data, missing values will replace by this. but we dont have missing in daatset\n",
      "C:\\Users\\Hp\\AppData\\Local\\Temp/ipykernel_10068/822390299.py:1: FutureWarning: Dropping of nuisance columns in DataFrame reductions (with 'numeric_only=None') is deprecated; in a future version this will raise TypeError.  Select only valid columns before calling the reduction.\n",
      "  train.median()     # for skewed data, missing values will replace by this. but we dont have missing in daatset\n"
     ]
    },
    {
     "data": {
      "text/plain": [
       "campaign_var_1          6.0\n",
       "campaign_var_2          6.0\n",
       "products_purchased      2.0\n",
       "user_activity_var_1     0.0\n",
       "user_activity_var_2     0.0\n",
       "user_activity_var_3     0.0\n",
       "user_activity_var_4     0.0\n",
       "user_activity_var_5     0.0\n",
       "user_activity_var_6     0.0\n",
       "user_activity_var_7     0.0\n",
       "user_activity_var_8     0.0\n",
       "user_activity_var_9     0.0\n",
       "user_activity_var_10    0.0\n",
       "user_activity_var_11    0.0\n",
       "user_activity_var_12    0.0\n",
       "buy                     0.0\n",
       "dtype: float64"
      ]
     },
     "execution_count": 34,
     "metadata": {},
     "output_type": "execute_result"
    }
   ],
   "source": [
    "train.median()     # for skewed data, missing values will replace by this. but we dont have missing in daatset"
   ]
  },
  {
   "cell_type": "code",
   "execution_count": 35,
   "id": "70f08426",
   "metadata": {},
   "outputs": [],
   "source": [
    "## Data analysis throgh visualization"
   ]
  },
  {
   "cell_type": "code",
   "execution_count": 36,
   "id": "bc5c222e",
   "metadata": {},
   "outputs": [
    {
     "data": {
      "text/plain": [
       "<AxesSubplot:xlabel='created_at', ylabel='products_purchased'>"
      ]
     },
     "execution_count": 36,
     "metadata": {},
     "output_type": "execute_result"
    },
    {
     "data": {
      "image/png": "[encoded data removed]",
      "text/plain": [
       "<Figure size 720x720 with 1 Axes>"
      ]
     },
     "metadata": {
      "needs_background": "light"
     },
     "output_type": "display_data"
    }
   ],
   "source": [
    "plt.figure(figsize=(10,10))\n",
    "sns.lineplot(x= train['created_at'], y=train['products_purchased'])  # trend between products purchased & user account created at"
   ]
  },
  {
   "cell_type": "code",
   "execution_count": 38,
   "id": "23bfb482",
   "metadata": {},
   "outputs": [
    {
     "data": {
      "text/plain": [
       "<AxesSubplot:xlabel='signup_date', ylabel='products_purchased'>"
      ]
     },
     "execution_count": 38,
     "metadata": {},
     "output_type": "execute_result"
    },
    {
     "data": {
      "image/png": "[encoded data removed]",
      "text/plain": [
       "<Figure size 1440x720 with 1 Axes>"
      ]
     },
     "metadata": {
      "needs_background": "light"
     },
     "output_type": "display_data"
    }
   ],
   "source": [
    "plt.figure(figsize=(20,10))\n",
    "sns.lineplot(x= train['signup_date'], y=train['products_purchased'])   # trend of products purchased on signup date"
   ]
  },
  {
   "cell_type": "markdown",
   "id": "1d2a5d8d",
   "metadata": {},
   "source": [
    "Here,products purchased are reducing by increasing year. In 2021 to 2022, products purchased become less,lies between 1.5 to 3.from 2016 to 2019, products purchased are more. it lies between 1 tp 4.so sales are decreasing . we need to focus on potential customers and increase oue short span sales."
   ]
  },
  {
   "cell_type": "code",
   "execution_count": 39,
   "id": "ccc39e2c",
   "metadata": {},
   "outputs": [
    {
     "data": {
      "text/html": [
       "<div>\n",
       "<style scoped>\n",
       "    .dataframe tbody tr th:only-of-type {\n",
       "        vertical-align: middle;\n",
       "    }\n",
       "\n",
       "    .dataframe tbody tr th {\n",
       "        vertical-align: top;\n",
       "    }\n",
       "\n",
       "    .dataframe thead th {\n",
       "        text-align: right;\n",
       "    }\n",
       "</style>\n",
       "<table border=\"1\" class=\"dataframe\">\n",
       "  <thead>\n",
       "    <tr style=\"text-align: right;\">\n",
       "      <th></th>\n",
       "      <th>campaign_var_1</th>\n",
       "      <th>campaign_var_2</th>\n",
       "      <th>products_purchased</th>\n",
       "      <th>user_activity_var_1</th>\n",
       "      <th>user_activity_var_2</th>\n",
       "      <th>user_activity_var_3</th>\n",
       "      <th>user_activity_var_4</th>\n",
       "      <th>user_activity_var_5</th>\n",
       "      <th>user_activity_var_6</th>\n",
       "      <th>user_activity_var_7</th>\n",
       "      <th>user_activity_var_8</th>\n",
       "      <th>user_activity_var_9</th>\n",
       "      <th>user_activity_var_10</th>\n",
       "      <th>user_activity_var_11</th>\n",
       "      <th>user_activity_var_12</th>\n",
       "      <th>buy</th>\n",
       "    </tr>\n",
       "  </thead>\n",
       "  <tbody>\n",
       "    <tr>\n",
       "      <th>campaign_var_1</th>\n",
       "      <td>1.000000</td>\n",
       "      <td>0.561489</td>\n",
       "      <td>-0.027047</td>\n",
       "      <td>0.024100</td>\n",
       "      <td>-0.034548</td>\n",
       "      <td>-0.012670</td>\n",
       "      <td>-0.033510</td>\n",
       "      <td>-0.023116</td>\n",
       "      <td>0.029665</td>\n",
       "      <td>-0.072600</td>\n",
       "      <td>-0.014276</td>\n",
       "      <td>-0.058264</td>\n",
       "      <td>-0.004831</td>\n",
       "      <td>-0.022000</td>\n",
       "      <td>-0.006369</td>\n",
       "      <td>-0.087202</td>\n",
       "    </tr>\n",
       "    <tr>\n",
       "      <th>campaign_var_2</th>\n",
       "      <td>0.561489</td>\n",
       "      <td>1.000000</td>\n",
       "      <td>0.001733</td>\n",
       "      <td>-0.032969</td>\n",
       "      <td>-0.039833</td>\n",
       "      <td>-0.008046</td>\n",
       "      <td>-0.038928</td>\n",
       "      <td>-0.030990</td>\n",
       "      <td>0.067304</td>\n",
       "      <td>-0.053462</td>\n",
       "      <td>-0.033848</td>\n",
       "      <td>-0.057942</td>\n",
       "      <td>-0.009879</td>\n",
       "      <td>-0.003890</td>\n",
       "      <td>-0.008228</td>\n",
       "      <td>-0.080064</td>\n",
       "    </tr>\n",
       "    <tr>\n",
       "      <th>products_purchased</th>\n",
       "      <td>-0.027047</td>\n",
       "      <td>0.001733</td>\n",
       "      <td>1.000000</td>\n",
       "      <td>-0.009926</td>\n",
       "      <td>0.007620</td>\n",
       "      <td>0.002928</td>\n",
       "      <td>0.007469</td>\n",
       "      <td>-0.003059</td>\n",
       "      <td>0.002974</td>\n",
       "      <td>0.009767</td>\n",
       "      <td>-0.012464</td>\n",
       "      <td>0.007955</td>\n",
       "      <td>0.004665</td>\n",
       "      <td>-0.000537</td>\n",
       "      <td>-0.005170</td>\n",
       "      <td>0.003556</td>\n",
       "    </tr>\n",
       "    <tr>\n",
       "      <th>user_activity_var_1</th>\n",
       "      <td>0.024100</td>\n",
       "      <td>-0.032969</td>\n",
       "      <td>-0.009926</td>\n",
       "      <td>1.000000</td>\n",
       "      <td>0.014599</td>\n",
       "      <td>-0.025950</td>\n",
       "      <td>0.016656</td>\n",
       "      <td>-0.015441</td>\n",
       "      <td>-0.190784</td>\n",
       "      <td>-0.085343</td>\n",
       "      <td>-0.047157</td>\n",
       "      <td>0.034783</td>\n",
       "      <td>0.012811</td>\n",
       "      <td>-0.062915</td>\n",
       "      <td>0.002535</td>\n",
       "      <td>0.044811</td>\n",
       "    </tr>\n",
       "    <tr>\n",
       "      <th>user_activity_var_2</th>\n",
       "      <td>-0.034548</td>\n",
       "      <td>-0.039833</td>\n",
       "      <td>0.007620</td>\n",
       "      <td>0.014599</td>\n",
       "      <td>1.000000</td>\n",
       "      <td>-0.001075</td>\n",
       "      <td>0.132108</td>\n",
       "      <td>0.060982</td>\n",
       "      <td>-0.005297</td>\n",
       "      <td>-0.020153</td>\n",
       "      <td>-0.035306</td>\n",
       "      <td>0.155794</td>\n",
       "      <td>0.046324</td>\n",
       "      <td>0.085794</td>\n",
       "      <td>0.024440</td>\n",
       "      <td>0.354627</td>\n",
       "    </tr>\n",
       "    <tr>\n",
       "      <th>user_activity_var_3</th>\n",
       "      <td>-0.012670</td>\n",
       "      <td>-0.008046</td>\n",
       "      <td>0.002928</td>\n",
       "      <td>-0.025950</td>\n",
       "      <td>-0.001075</td>\n",
       "      <td>1.000000</td>\n",
       "      <td>0.003023</td>\n",
       "      <td>0.023117</td>\n",
       "      <td>-0.050132</td>\n",
       "      <td>-0.006306</td>\n",
       "      <td>-0.025562</td>\n",
       "      <td>0.003898</td>\n",
       "      <td>0.019152</td>\n",
       "      <td>-0.027212</td>\n",
       "      <td>0.013261</td>\n",
       "      <td>0.005174</td>\n",
       "    </tr>\n",
       "    <tr>\n",
       "      <th>user_activity_var_4</th>\n",
       "      <td>-0.033510</td>\n",
       "      <td>-0.038928</td>\n",
       "      <td>0.007469</td>\n",
       "      <td>0.016656</td>\n",
       "      <td>0.132108</td>\n",
       "      <td>0.003023</td>\n",
       "      <td>1.000000</td>\n",
       "      <td>0.071339</td>\n",
       "      <td>-0.021669</td>\n",
       "      <td>-0.004572</td>\n",
       "      <td>-0.039370</td>\n",
       "      <td>0.204941</td>\n",
       "      <td>0.046924</td>\n",
       "      <td>0.067085</td>\n",
       "      <td>0.037937</td>\n",
       "      <td>0.394706</td>\n",
       "    </tr>\n",
       "    <tr>\n",
       "      <th>user_activity_var_5</th>\n",
       "      <td>-0.023116</td>\n",
       "      <td>-0.030990</td>\n",
       "      <td>-0.003059</td>\n",
       "      <td>-0.015441</td>\n",
       "      <td>0.060982</td>\n",
       "      <td>0.023117</td>\n",
       "      <td>0.071339</td>\n",
       "      <td>1.000000</td>\n",
       "      <td>-0.078928</td>\n",
       "      <td>-0.007705</td>\n",
       "      <td>-0.031585</td>\n",
       "      <td>0.074189</td>\n",
       "      <td>0.028037</td>\n",
       "      <td>0.021225</td>\n",
       "      <td>0.022972</td>\n",
       "      <td>0.164972</td>\n",
       "    </tr>\n",
       "    <tr>\n",
       "      <th>user_activity_var_6</th>\n",
       "      <td>0.029665</td>\n",
       "      <td>0.067304</td>\n",
       "      <td>0.002974</td>\n",
       "      <td>-0.190784</td>\n",
       "      <td>-0.005297</td>\n",
       "      <td>-0.050132</td>\n",
       "      <td>-0.021669</td>\n",
       "      <td>-0.078928</td>\n",
       "      <td>1.000000</td>\n",
       "      <td>-0.169651</td>\n",
       "      <td>-0.062460</td>\n",
       "      <td>-0.013304</td>\n",
       "      <td>0.001175</td>\n",
       "      <td>-0.076816</td>\n",
       "      <td>0.001938</td>\n",
       "      <td>-0.010951</td>\n",
       "    </tr>\n",
       "    <tr>\n",
       "      <th>user_activity_var_7</th>\n",
       "      <td>-0.072600</td>\n",
       "      <td>-0.053462</td>\n",
       "      <td>0.009767</td>\n",
       "      <td>-0.085343</td>\n",
       "      <td>-0.020153</td>\n",
       "      <td>-0.006306</td>\n",
       "      <td>-0.004572</td>\n",
       "      <td>-0.007705</td>\n",
       "      <td>-0.169651</td>\n",
       "      <td>1.000000</td>\n",
       "      <td>-0.035982</td>\n",
       "      <td>-0.010222</td>\n",
       "      <td>0.002007</td>\n",
       "      <td>-0.063410</td>\n",
       "      <td>0.006371</td>\n",
       "      <td>-0.028428</td>\n",
       "    </tr>\n",
       "    <tr>\n",
       "      <th>user_activity_var_8</th>\n",
       "      <td>-0.014276</td>\n",
       "      <td>-0.033848</td>\n",
       "      <td>-0.012464</td>\n",
       "      <td>-0.047157</td>\n",
       "      <td>-0.035306</td>\n",
       "      <td>-0.025562</td>\n",
       "      <td>-0.039370</td>\n",
       "      <td>-0.031585</td>\n",
       "      <td>-0.062460</td>\n",
       "      <td>-0.035982</td>\n",
       "      <td>1.000000</td>\n",
       "      <td>-0.042465</td>\n",
       "      <td>-0.008993</td>\n",
       "      <td>-0.035003</td>\n",
       "      <td>-0.002377</td>\n",
       "      <td>-0.097355</td>\n",
       "    </tr>\n",
       "    <tr>\n",
       "      <th>user_activity_var_9</th>\n",
       "      <td>-0.058264</td>\n",
       "      <td>-0.057942</td>\n",
       "      <td>0.007955</td>\n",
       "      <td>0.034783</td>\n",
       "      <td>0.155794</td>\n",
       "      <td>0.003898</td>\n",
       "      <td>0.204941</td>\n",
       "      <td>0.074189</td>\n",
       "      <td>-0.013304</td>\n",
       "      <td>-0.010222</td>\n",
       "      <td>-0.042465</td>\n",
       "      <td>1.000000</td>\n",
       "      <td>0.046980</td>\n",
       "      <td>0.120698</td>\n",
       "      <td>0.027851</td>\n",
       "      <td>0.463947</td>\n",
       "    </tr>\n",
       "    <tr>\n",
       "      <th>user_activity_var_10</th>\n",
       "      <td>-0.004831</td>\n",
       "      <td>-0.009879</td>\n",
       "      <td>0.004665</td>\n",
       "      <td>0.012811</td>\n",
       "      <td>0.046324</td>\n",
       "      <td>0.019152</td>\n",
       "      <td>0.046924</td>\n",
       "      <td>0.028037</td>\n",
       "      <td>0.001175</td>\n",
       "      <td>0.002007</td>\n",
       "      <td>-0.008993</td>\n",
       "      <td>0.046980</td>\n",
       "      <td>1.000000</td>\n",
       "      <td>0.017285</td>\n",
       "      <td>-0.000464</td>\n",
       "      <td>0.084423</td>\n",
       "    </tr>\n",
       "    <tr>\n",
       "      <th>user_activity_var_11</th>\n",
       "      <td>-0.022000</td>\n",
       "      <td>-0.003890</td>\n",
       "      <td>-0.000537</td>\n",
       "      <td>-0.062915</td>\n",
       "      <td>0.085794</td>\n",
       "      <td>-0.027212</td>\n",
       "      <td>0.067085</td>\n",
       "      <td>0.021225</td>\n",
       "      <td>-0.076816</td>\n",
       "      <td>-0.063410</td>\n",
       "      <td>-0.035003</td>\n",
       "      <td>0.120698</td>\n",
       "      <td>0.017285</td>\n",
       "      <td>1.000000</td>\n",
       "      <td>0.017938</td>\n",
       "      <td>0.267995</td>\n",
       "    </tr>\n",
       "    <tr>\n",
       "      <th>user_activity_var_12</th>\n",
       "      <td>-0.006369</td>\n",
       "      <td>-0.008228</td>\n",
       "      <td>-0.005170</td>\n",
       "      <td>0.002535</td>\n",
       "      <td>0.024440</td>\n",
       "      <td>0.013261</td>\n",
       "      <td>0.037937</td>\n",
       "      <td>0.022972</td>\n",
       "      <td>0.001938</td>\n",
       "      <td>0.006371</td>\n",
       "      <td>-0.002377</td>\n",
       "      <td>0.027851</td>\n",
       "      <td>-0.000464</td>\n",
       "      <td>0.017938</td>\n",
       "      <td>1.000000</td>\n",
       "      <td>0.067967</td>\n",
       "    </tr>\n",
       "    <tr>\n",
       "      <th>buy</th>\n",
       "      <td>-0.087202</td>\n",
       "      <td>-0.080064</td>\n",
       "      <td>0.003556</td>\n",
       "      <td>0.044811</td>\n",
       "      <td>0.354627</td>\n",
       "      <td>0.005174</td>\n",
       "      <td>0.394706</td>\n",
       "      <td>0.164972</td>\n",
       "      <td>-0.010951</td>\n",
       "      <td>-0.028428</td>\n",
       "      <td>-0.097355</td>\n",
       "      <td>0.463947</td>\n",
       "      <td>0.084423</td>\n",
       "      <td>0.267995</td>\n",
       "      <td>0.067967</td>\n",
       "      <td>1.000000</td>\n",
       "    </tr>\n",
       "  </tbody>\n",
       "</table>\n",
       "</div>"
      ],
      "text/plain": [
       "                      campaign_var_1  campaign_var_2  products_purchased  \\\n",
       "campaign_var_1              1.000000        0.561489           -0.027047   \n",
       "campaign_var_2              0.561489        1.000000            0.001733   \n",
       "products_purchased         -0.027047        0.001733            1.000000   \n",
       "user_activity_var_1         0.024100       -0.032969           -0.009926   \n",
       "user_activity_var_2        -0.034548       -0.039833            0.007620   \n",
       "user_activity_var_3        -0.012670       -0.008046            0.002928   \n",
       "user_activity_var_4        -0.033510       -0.038928            0.007469   \n",
       "user_activity_var_5        -0.023116       -0.030990           -0.003059   \n",
       "user_activity_var_6         0.029665        0.067304            0.002974   \n",
       "user_activity_var_7        -0.072600       -0.053462            0.009767   \n",
       "user_activity_var_8        -0.014276       -0.033848           -0.012464   \n",
       "user_activity_var_9        -0.058264       -0.057942            0.007955   \n",
       "user_activity_var_10       -0.004831       -0.009879            0.004665   \n",
       "user_activity_var_11       -0.022000       -0.003890           -0.000537   \n",
       "user_activity_var_12       -0.006369       -0.008228           -0.005170   \n",
       "buy                        -0.087202       -0.080064            0.003556   \n",
       "\n",
       "                      user_activity_var_1  user_activity_var_2  \\\n",
       "campaign_var_1                   0.024100            -0.034548   \n",
       "campaign_var_2                  -0.032969            -0.039833   \n",
       "products_purchased              -0.009926             0.007620   \n",
       "user_activity_var_1              1.000000             0.014599   \n",
       "user_activity_var_2              0.014599             1.000000   \n",
       "user_activity_var_3             -0.025950            -0.001075   \n",
       "user_activity_var_4              0.016656             0.132108   \n",
       "user_activity_var_5             -0.015441             0.060982   \n",
       "user_activity_var_6             -0.190784            -0.005297   \n",
       "user_activity_var_7             -0.085343            -0.020153   \n",
       "user_activity_var_8             -0.047157            -0.035306   \n",
       "user_activity_var_9              0.034783             0.155794   \n",
       "user_activity_var_10             0.012811             0.046324   \n",
       "user_activity_var_11            -0.062915             0.085794   \n",
       "user_activity_var_12             0.002535             0.024440   \n",
       "buy                              0.044811             0.354627   \n",
       "\n",
       "                      user_activity_var_3  user_activity_var_4  \\\n",
       "campaign_var_1                  -0.012670            -0.033510   \n",
       "campaign_var_2                  -0.008046            -0.038928   \n",
       "products_purchased               0.002928             0.007469   \n",
       "user_activity_var_1             -0.025950             0.016656   \n",
       "user_activity_var_2             -0.001075             0.132108   \n",
       "user_activity_var_3              1.000000             0.003023   \n",
       "user_activity_var_4              0.003023             1.000000   \n",
       "user_activity_var_5              0.023117             0.071339   \n",
       "user_activity_var_6             -0.050132            -0.021669   \n",
       "user_activity_var_7             -0.006306            -0.004572   \n",
       "user_activity_var_8             -0.025562            -0.039370   \n",
       "user_activity_var_9              0.003898             0.204941   \n",
       "user_activity_var_10             0.019152             0.046924   \n",
       "user_activity_var_11            -0.027212             0.067085   \n",
       "user_activity_var_12             0.013261             0.037937   \n",
       "buy                              0.005174             0.394706   \n",
       "\n",
       "                      user_activity_var_5  user_activity_var_6  \\\n",
       "campaign_var_1                  -0.023116             0.029665   \n",
       "campaign_var_2                  -0.030990             0.067304   \n",
       "products_purchased              -0.003059             0.002974   \n",
       "user_activity_var_1             -0.015441            -0.190784   \n",
       "user_activity_var_2              0.060982            -0.005297   \n",
       "user_activity_var_3              0.023117            -0.050132   \n",
       "user_activity_var_4              0.071339            -0.021669   \n",
       "user_activity_var_5              1.000000            -0.078928   \n",
       "user_activity_var_6             -0.078928             1.000000   \n",
       "user_activity_var_7             -0.007705            -0.169651   \n",
       "user_activity_var_8             -0.031585            -0.062460   \n",
       "user_activity_var_9              0.074189            -0.013304   \n",
       "user_activity_var_10             0.028037             0.001175   \n",
       "user_activity_var_11             0.021225            -0.076816   \n",
       "user_activity_var_12             0.022972             0.001938   \n",
       "buy                              0.164972            -0.010951   \n",
       "\n",
       "                      user_activity_var_7  user_activity_var_8  \\\n",
       "campaign_var_1                  -0.072600            -0.014276   \n",
       "campaign_var_2                  -0.053462            -0.033848   \n",
       "products_purchased               0.009767            -0.012464   \n",
       "user_activity_var_1             -0.085343            -0.047157   \n",
       "user_activity_var_2             -0.020153            -0.035306   \n",
       "user_activity_var_3             -0.006306            -0.025562   \n",
       "user_activity_var_4             -0.004572            -0.039370   \n",
       "user_activity_var_5             -0.007705            -0.031585   \n",
       "user_activity_var_6             -0.169651            -0.062460   \n",
       "user_activity_var_7              1.000000            -0.035982   \n",
       "user_activity_var_8             -0.035982             1.000000   \n",
       "user_activity_var_9             -0.010222            -0.042465   \n",
       "user_activity_var_10             0.002007            -0.008993   \n",
       "user_activity_var_11            -0.063410            -0.035003   \n",
       "user_activity_var_12             0.006371            -0.002377   \n",
       "buy                             -0.028428            -0.097355   \n",
       "\n",
       "                      user_activity_var_9  user_activity_var_10  \\\n",
       "campaign_var_1                  -0.058264             -0.004831   \n",
       "campaign_var_2                  -0.057942             -0.009879   \n",
       "products_purchased               0.007955              0.004665   \n",
       "user_activity_var_1              0.034783              0.012811   \n",
       "user_activity_var_2              0.155794              0.046324   \n",
       "user_activity_var_3              0.003898              0.019152   \n",
       "user_activity_var_4              0.204941              0.046924   \n",
       "user_activity_var_5              0.074189              0.028037   \n",
       "user_activity_var_6             -0.013304              0.001175   \n",
       "user_activity_var_7             -0.010222              0.002007   \n",
       "user_activity_var_8             -0.042465             -0.008993   \n",
       "user_activity_var_9              1.000000              0.046980   \n",
       "user_activity_var_10             0.046980              1.000000   \n",
       "user_activity_var_11             0.120698              0.017285   \n",
       "user_activity_var_12             0.027851             -0.000464   \n",
       "buy                              0.463947              0.084423   \n",
       "\n",
       "                      user_activity_var_11  user_activity_var_12       buy  \n",
       "campaign_var_1                   -0.022000             -0.006369 -0.087202  \n",
       "campaign_var_2                   -0.003890             -0.008228 -0.080064  \n",
       "products_purchased               -0.000537             -0.005170  0.003556  \n",
       "user_activity_var_1              -0.062915              0.002535  0.044811  \n",
       "user_activity_var_2               0.085794              0.024440  0.354627  \n",
       "user_activity_var_3              -0.027212              0.013261  0.005174  \n",
       "user_activity_var_4               0.067085              0.037937  0.394706  \n",
       "user_activity_var_5               0.021225              0.022972  0.164972  \n",
       "user_activity_var_6              -0.076816              0.001938 -0.010951  \n",
       "user_activity_var_7              -0.063410              0.006371 -0.028428  \n",
       "user_activity_var_8              -0.035003             -0.002377 -0.097355  \n",
       "user_activity_var_9               0.120698              0.027851  0.463947  \n",
       "user_activity_var_10              0.017285             -0.000464  0.084423  \n",
       "user_activity_var_11              1.000000              0.017938  0.267995  \n",
       "user_activity_var_12              0.017938              1.000000  0.067967  \n",
       "buy                               0.267995              0.067967  1.000000  "
      ]
     },
     "execution_count": 39,
     "metadata": {},
     "output_type": "execute_result"
    }
   ],
   "source": [
    "train.corr()  # to find relation between variables"
   ]
  },
  {
   "cell_type": "markdown",
   "id": "e9ec84fe",
   "metadata": {},
   "source": [
    "From correlation, we can see there is no specific relation between variables. so we cant select one variable for modelling as feature. we have to use all numerical values for modelling."
   ]
  },
  {
   "cell_type": "code",
   "execution_count": 40,
   "id": "4e53e49c",
   "metadata": {},
   "outputs": [],
   "source": [
    " # Preprocessing allows us to standarsize our data\n",
    "from sklearn import preprocessing\n",
    "# Allows us to split our data into training and testing data\n",
    "from sklearn.model_selection import train_test_split\n"
   ]
  },
  {
   "cell_type": "markdown",
   "id": "ecf48c9b",
   "metadata": {},
   "source": [
    "create a column for the buy in test\n",
    "Standardize the data\n",
    "Split into training data and test data\n"
   ]
  },
  {
   "cell_type": "code",
   "execution_count": 41,
   "id": "f94a6fa3",
   "metadata": {
    "scrolled": true
   },
   "outputs": [
    {
     "data": {
      "text/html": [
       "<div>\n",
       "<style scoped>\n",
       "    .dataframe tbody tr th:only-of-type {\n",
       "        vertical-align: middle;\n",
       "    }\n",
       "\n",
       "    .dataframe tbody tr th {\n",
       "        vertical-align: top;\n",
       "    }\n",
       "\n",
       "    .dataframe thead th {\n",
       "        text-align: right;\n",
       "    }\n",
       "</style>\n",
       "<table border=\"1\" class=\"dataframe\">\n",
       "  <thead>\n",
       "    <tr style=\"text-align: right;\">\n",
       "      <th></th>\n",
       "      <th>id</th>\n",
       "      <th>campaign_var_1</th>\n",
       "      <th>campaign_var_2</th>\n",
       "      <th>products_purchased</th>\n",
       "      <th>user_activity_var_1</th>\n",
       "      <th>user_activity_var_2</th>\n",
       "      <th>user_activity_var_3</th>\n",
       "      <th>user_activity_var_4</th>\n",
       "      <th>user_activity_var_5</th>\n",
       "      <th>user_activity_var_6</th>\n",
       "      <th>user_activity_var_7</th>\n",
       "      <th>user_activity_var_8</th>\n",
       "      <th>user_activity_var_9</th>\n",
       "      <th>user_activity_var_10</th>\n",
       "      <th>user_activity_var_11</th>\n",
       "      <th>user_activity_var_12</th>\n",
       "    </tr>\n",
       "  </thead>\n",
       "  <tbody>\n",
       "    <tr>\n",
       "      <th>0</th>\n",
       "      <td>1</td>\n",
       "      <td>1</td>\n",
       "      <td>2</td>\n",
       "      <td>2</td>\n",
       "      <td>0</td>\n",
       "      <td>0</td>\n",
       "      <td>0</td>\n",
       "      <td>0</td>\n",
       "      <td>0</td>\n",
       "      <td>0</td>\n",
       "      <td>1</td>\n",
       "      <td>1</td>\n",
       "      <td>0</td>\n",
       "      <td>0</td>\n",
       "      <td>0</td>\n",
       "      <td>0</td>\n",
       "    </tr>\n",
       "    <tr>\n",
       "      <th>1</th>\n",
       "      <td>2</td>\n",
       "      <td>2</td>\n",
       "      <td>1</td>\n",
       "      <td>2</td>\n",
       "      <td>1</td>\n",
       "      <td>0</td>\n",
       "      <td>1</td>\n",
       "      <td>0</td>\n",
       "      <td>0</td>\n",
       "      <td>0</td>\n",
       "      <td>1</td>\n",
       "      <td>0</td>\n",
       "      <td>0</td>\n",
       "      <td>0</td>\n",
       "      <td>0</td>\n",
       "      <td>0</td>\n",
       "    </tr>\n",
       "    <tr>\n",
       "      <th>2</th>\n",
       "      <td>3</td>\n",
       "      <td>9</td>\n",
       "      <td>3</td>\n",
       "      <td>3</td>\n",
       "      <td>1</td>\n",
       "      <td>0</td>\n",
       "      <td>0</td>\n",
       "      <td>0</td>\n",
       "      <td>0</td>\n",
       "      <td>0</td>\n",
       "      <td>0</td>\n",
       "      <td>0</td>\n",
       "      <td>0</td>\n",
       "      <td>0</td>\n",
       "      <td>0</td>\n",
       "      <td>0</td>\n",
       "    </tr>\n",
       "    <tr>\n",
       "      <th>3</th>\n",
       "      <td>4</td>\n",
       "      <td>6</td>\n",
       "      <td>7</td>\n",
       "      <td>2</td>\n",
       "      <td>0</td>\n",
       "      <td>0</td>\n",
       "      <td>0</td>\n",
       "      <td>0</td>\n",
       "      <td>0</td>\n",
       "      <td>0</td>\n",
       "      <td>0</td>\n",
       "      <td>0</td>\n",
       "      <td>0</td>\n",
       "      <td>0</td>\n",
       "      <td>0</td>\n",
       "      <td>0</td>\n",
       "    </tr>\n",
       "    <tr>\n",
       "      <th>4</th>\n",
       "      <td>5</td>\n",
       "      <td>4</td>\n",
       "      <td>6</td>\n",
       "      <td>2</td>\n",
       "      <td>0</td>\n",
       "      <td>0</td>\n",
       "      <td>0</td>\n",
       "      <td>0</td>\n",
       "      <td>0</td>\n",
       "      <td>0</td>\n",
       "      <td>1</td>\n",
       "      <td>0</td>\n",
       "      <td>0</td>\n",
       "      <td>0</td>\n",
       "      <td>1</td>\n",
       "      <td>0</td>\n",
       "    </tr>\n",
       "  </tbody>\n",
       "</table>\n",
       "</div>"
      ],
      "text/plain": [
       "  id  campaign_var_1  campaign_var_2  products_purchased  user_activity_var_1  \\\n",
       "0  1               1               2                   2                    0   \n",
       "1  2               2               1                   2                    1   \n",
       "2  3               9               3                   3                    1   \n",
       "3  4               6               7                   2                    0   \n",
       "4  5               4               6                   2                    0   \n",
       "\n",
       "   user_activity_var_2  user_activity_var_3  user_activity_var_4  \\\n",
       "0                    0                    0                    0   \n",
       "1                    0                    1                    0   \n",
       "2                    0                    0                    0   \n",
       "3                    0                    0                    0   \n",
       "4                    0                    0                    0   \n",
       "\n",
       "   user_activity_var_5  user_activity_var_6  user_activity_var_7  \\\n",
       "0                    0                    0                    1   \n",
       "1                    0                    0                    1   \n",
       "2                    0                    0                    0   \n",
       "3                    0                    0                    0   \n",
       "4                    0                    0                    1   \n",
       "\n",
       "   user_activity_var_8  user_activity_var_9  user_activity_var_10  \\\n",
       "0                    1                    0                     0   \n",
       "1                    0                    0                     0   \n",
       "2                    0                    0                     0   \n",
       "3                    0                    0                     0   \n",
       "4                    0                    0                     0   \n",
       "\n",
       "   user_activity_var_11  user_activity_var_12  \n",
       "0                     0                     0  \n",
       "1                     0                     0  \n",
       "2                     0                     0  \n",
       "3                     0                     0  \n",
       "4                     1                     0  "
      ]
     },
     "execution_count": 41,
     "metadata": {},
     "output_type": "execute_result"
    }
   ],
   "source": [
    "X=pd.DataFrame(train[['id','campaign_var_1', 'campaign_var_2',\n",
    "       'products_purchased',  'user_activity_var_1',\n",
    "       'user_activity_var_2', 'user_activity_var_3', 'user_activity_var_4',\n",
    "       'user_activity_var_5', 'user_activity_var_6', 'user_activity_var_7',\n",
    "       'user_activity_var_8', 'user_activity_var_9', 'user_activity_var_10',\n",
    "       'user_activity_var_11', 'user_activity_var_12',]])\n",
    "X.head()"
   ]
  },
  {
   "cell_type": "markdown",
   "id": "1a701b27",
   "metadata": {},
   "source": [
    "Here, date variables are not used in modelling,buy is independent variable, we have to find its labels, so we dont use in X."
   ]
  },
  {
   "cell_type": "markdown",
   "id": "f1bf9ac1",
   "metadata": {},
   "source": [
    "Create a NumPy array from the column Class in data, by applying the method to_numpy() then assign it to the variable Y,make sure the output is a Pandas series (only one bracket df['name of column'])."
   ]
  },
  {
   "cell_type": "code",
   "execution_count": 42,
   "id": "7f7233ae",
   "metadata": {},
   "outputs": [
    {
     "data": {
      "text/plain": [
       "array([0, 0, 0, ..., 0, 0, 0], dtype=int64)"
      ]
     },
     "execution_count": 42,
     "metadata": {},
     "output_type": "execute_result"
    }
   ],
   "source": [
    "Y=train['buy'].to_numpy()\n",
    "Y"
   ]
  },
  {
   "cell_type": "markdown",
   "id": "fd8c9803",
   "metadata": {},
   "source": [
    "**Standardize the data in X then reassign it to the variable X using the transform provided below**"
   ]
  },
  {
   "cell_type": "code",
   "execution_count": 43,
   "id": "3f87a10e",
   "metadata": {},
   "outputs": [],
   "source": [
    "from sklearn.preprocessing import StandardScaler\n",
    "transform = preprocessing.StandardScaler()"
   ]
  },
  {
   "cell_type": "code",
   "execution_count": 44,
   "id": "084fcb4d",
   "metadata": {},
   "outputs": [],
   "source": [
    "X=StandardScaler().fit_transform(X)"
   ]
  },
  {
   "cell_type": "markdown",
   "id": "a78b2814",
   "metadata": {},
   "source": [
    "We split the data into training and testing data using the function train_test_split. The training data is divided into validation data, a second set used for validating data; \n",
    "\n",
    "Use the function train_test_split to split the data X and Y into training and validating data. Set the parameter test_size to 0.2 and random_state to 2. The training data and validating data should be assigned to the following labels."
   ]
  },
  {
   "cell_type": "code",
   "execution_count": 45,
   "id": "fef91865",
   "metadata": {},
   "outputs": [],
   "source": [
    "# Split features and value\n",
    "# when trying to predict column \"buy\" \n",
    "X_train, X_test, Y_train, Y_test=train_test_split(X,Y,test_size=0.2,random_state=2)"
   ]
  },
  {
   "cell_type": "code",
   "execution_count": 46,
   "id": "d87946d6",
   "metadata": {},
   "outputs": [
    {
     "data": {
      "text/plain": [
       "(7833,)"
      ]
     },
     "execution_count": 46,
     "metadata": {},
     "output_type": "execute_result"
    }
   ],
   "source": [
    "Y_test.shape"
   ]
  },
  {
   "cell_type": "code",
   "execution_count": 47,
   "id": "0f60a159",
   "metadata": {},
   "outputs": [
    {
     "data": {
      "text/plain": [
       "(7833, 16)"
      ]
     },
     "execution_count": 47,
     "metadata": {},
     "output_type": "execute_result"
    }
   ],
   "source": [
    "X_test.shape  #testing data "
   ]
  },
  {
   "cell_type": "code",
   "execution_count": 48,
   "id": "2f8580fb",
   "metadata": {},
   "outputs": [
    {
     "data": {
      "text/plain": [
       "(31328, 16)"
      ]
     },
     "execution_count": 48,
     "metadata": {},
     "output_type": "execute_result"
    }
   ],
   "source": [
    "X_train.shape   # traing data"
   ]
  },
  {
   "cell_type": "code",
   "execution_count": 49,
   "id": "dada504a",
   "metadata": {},
   "outputs": [
    {
     "data": {
      "text/plain": [
       "(31328,)"
      ]
     },
     "execution_count": 49,
     "metadata": {},
     "output_type": "execute_result"
    }
   ],
   "source": [
    "Y_train.shape"
   ]
  },
  {
   "cell_type": "code",
   "execution_count": 50,
   "id": "cfdabe08",
   "metadata": {},
   "outputs": [],
   "source": [
    "#test dataset\n",
    "t= pd.DataFrame(test[['id','campaign_var_1', 'campaign_var_2',\n",
    "       'products_purchased',  'user_activity_var_1',\n",
    "       'user_activity_var_2', 'user_activity_var_3', 'user_activity_var_4',\n",
    "       'user_activity_var_5', 'user_activity_var_6', 'user_activity_var_7',\n",
    "       'user_activity_var_8', 'user_activity_var_9', 'user_activity_var_10',\n",
    "       'user_activity_var_11', 'user_activity_var_12',]])"
   ]
  },
  {
   "cell_type": "markdown",
   "id": "d7d3e1ca",
   "metadata": {},
   "source": [
    "Here we dont take date columns,because it is not used in ml modeling"
   ]
  },
  {
   "cell_type": "code",
   "execution_count": 51,
   "id": "b9faf6d1",
   "metadata": {},
   "outputs": [
    {
     "data": {
      "text/html": [
       "<div>\n",
       "<style scoped>\n",
       "    .dataframe tbody tr th:only-of-type {\n",
       "        vertical-align: middle;\n",
       "    }\n",
       "\n",
       "    .dataframe tbody tr th {\n",
       "        vertical-align: top;\n",
       "    }\n",
       "\n",
       "    .dataframe thead th {\n",
       "        text-align: right;\n",
       "    }\n",
       "</style>\n",
       "<table border=\"1\" class=\"dataframe\">\n",
       "  <thead>\n",
       "    <tr style=\"text-align: right;\">\n",
       "      <th></th>\n",
       "      <th>id</th>\n",
       "      <th>campaign_var_1</th>\n",
       "      <th>campaign_var_2</th>\n",
       "      <th>products_purchased</th>\n",
       "      <th>user_activity_var_1</th>\n",
       "      <th>user_activity_var_2</th>\n",
       "      <th>user_activity_var_3</th>\n",
       "      <th>user_activity_var_4</th>\n",
       "      <th>user_activity_var_5</th>\n",
       "      <th>user_activity_var_6</th>\n",
       "      <th>user_activity_var_7</th>\n",
       "      <th>user_activity_var_8</th>\n",
       "      <th>user_activity_var_9</th>\n",
       "      <th>user_activity_var_10</th>\n",
       "      <th>user_activity_var_11</th>\n",
       "      <th>user_activity_var_12</th>\n",
       "    </tr>\n",
       "  </thead>\n",
       "  <tbody>\n",
       "    <tr>\n",
       "      <th>0</th>\n",
       "      <td>39162</td>\n",
       "      <td>2</td>\n",
       "      <td>2</td>\n",
       "      <td>2</td>\n",
       "      <td>1</td>\n",
       "      <td>1</td>\n",
       "      <td>0</td>\n",
       "      <td>0</td>\n",
       "      <td>0</td>\n",
       "      <td>1</td>\n",
       "      <td>0</td>\n",
       "      <td>0</td>\n",
       "      <td>0</td>\n",
       "      <td>0</td>\n",
       "      <td>1</td>\n",
       "      <td>0</td>\n",
       "    </tr>\n",
       "    <tr>\n",
       "      <th>1</th>\n",
       "      <td>39163</td>\n",
       "      <td>4</td>\n",
       "      <td>7</td>\n",
       "      <td>3</td>\n",
       "      <td>1</td>\n",
       "      <td>0</td>\n",
       "      <td>0</td>\n",
       "      <td>0</td>\n",
       "      <td>0</td>\n",
       "      <td>0</td>\n",
       "      <td>0</td>\n",
       "      <td>1</td>\n",
       "      <td>0</td>\n",
       "      <td>0</td>\n",
       "      <td>0</td>\n",
       "      <td>0</td>\n",
       "    </tr>\n",
       "    <tr>\n",
       "      <th>2</th>\n",
       "      <td>39164</td>\n",
       "      <td>8</td>\n",
       "      <td>7</td>\n",
       "      <td>2</td>\n",
       "      <td>0</td>\n",
       "      <td>0</td>\n",
       "      <td>0</td>\n",
       "      <td>0</td>\n",
       "      <td>1</td>\n",
       "      <td>1</td>\n",
       "      <td>0</td>\n",
       "      <td>0</td>\n",
       "      <td>0</td>\n",
       "      <td>0</td>\n",
       "      <td>0</td>\n",
       "      <td>0</td>\n",
       "    </tr>\n",
       "    <tr>\n",
       "      <th>3</th>\n",
       "      <td>39165</td>\n",
       "      <td>9</td>\n",
       "      <td>8</td>\n",
       "      <td>2</td>\n",
       "      <td>0</td>\n",
       "      <td>0</td>\n",
       "      <td>0</td>\n",
       "      <td>0</td>\n",
       "      <td>1</td>\n",
       "      <td>1</td>\n",
       "      <td>1</td>\n",
       "      <td>0</td>\n",
       "      <td>0</td>\n",
       "      <td>0</td>\n",
       "      <td>2</td>\n",
       "      <td>0</td>\n",
       "    </tr>\n",
       "    <tr>\n",
       "      <th>4</th>\n",
       "      <td>39166</td>\n",
       "      <td>4</td>\n",
       "      <td>5</td>\n",
       "      <td>2</td>\n",
       "      <td>1</td>\n",
       "      <td>0</td>\n",
       "      <td>0</td>\n",
       "      <td>0</td>\n",
       "      <td>0</td>\n",
       "      <td>0</td>\n",
       "      <td>0</td>\n",
       "      <td>0</td>\n",
       "      <td>0</td>\n",
       "      <td>0</td>\n",
       "      <td>0</td>\n",
       "      <td>0</td>\n",
       "    </tr>\n",
       "  </tbody>\n",
       "</table>\n",
       "</div>"
      ],
      "text/plain": [
       "      id  campaign_var_1  campaign_var_2  products_purchased  \\\n",
       "0  39162               2               2                   2   \n",
       "1  39163               4               7                   3   \n",
       "2  39164               8               7                   2   \n",
       "3  39165               9               8                   2   \n",
       "4  39166               4               5                   2   \n",
       "\n",
       "   user_activity_var_1  user_activity_var_2  user_activity_var_3  \\\n",
       "0                    1                    1                    0   \n",
       "1                    1                    0                    0   \n",
       "2                    0                    0                    0   \n",
       "3                    0                    0                    0   \n",
       "4                    1                    0                    0   \n",
       "\n",
       "   user_activity_var_4  user_activity_var_5  user_activity_var_6  \\\n",
       "0                    0                    0                    1   \n",
       "1                    0                    0                    0   \n",
       "2                    0                    1                    1   \n",
       "3                    0                    1                    1   \n",
       "4                    0                    0                    0   \n",
       "\n",
       "   user_activity_var_7  user_activity_var_8  user_activity_var_9  \\\n",
       "0                    0                    0                    0   \n",
       "1                    0                    1                    0   \n",
       "2                    0                    0                    0   \n",
       "3                    1                    0                    0   \n",
       "4                    0                    0                    0   \n",
       "\n",
       "   user_activity_var_10  user_activity_var_11  user_activity_var_12  \n",
       "0                     0                     1                     0  \n",
       "1                     0                     0                     0  \n",
       "2                     0                     0                     0  \n",
       "3                     0                     2                     0  \n",
       "4                     0                     0                     0  "
      ]
     },
     "execution_count": 51,
     "metadata": {},
     "output_type": "execute_result"
    }
   ],
   "source": [
    "t.head()   # display top 5 rows"
   ]
  },
  {
   "cell_type": "code",
   "execution_count": 52,
   "id": "837306dc",
   "metadata": {},
   "outputs": [],
   "source": [
    "t=StandardScaler().fit_transform(t)     # standardize test dataset for predicting model"
   ]
  },
  {
   "cell_type": "code",
   "execution_count": 53,
   "id": "07189aa3",
   "metadata": {},
   "outputs": [
    {
     "name": "stdout",
     "output_type": "stream",
     "text": [
      "accuracy of model 0.9274878640776699\n"
     ]
    }
   ],
   "source": [
    "from sklearn.ensemble import RandomForestClassifier  # importing rfc from ensemble module\n",
    "X_train,X_val,y_train,y_val=train_test_split(X,Y,test_size=0.33664)\n",
    "model=RandomForestClassifier()   # instantiate model\n",
    "model.fit(X_train,y_train)  # fit on the train data\n",
    "model.predict(X_val)    #Predict on validation set\n",
    "y_pred = model.predict(t)   # Predict on test set\n",
    "from sklearn import metrics  # to find accuracy or error\n",
    "print(\"accuracy of model\", metrics.accuracy_score(y_val,y_pred))"
   ]
  },
  {
   "cell_type": "code",
   "execution_count": 54,
   "id": "e13a38ad",
   "metadata": {},
   "outputs": [
    {
     "data": {
      "text/plain": [
       "array([1, 0, 0, ..., 0, 0, 0], dtype=int64)"
      ]
     },
     "execution_count": 54,
     "metadata": {},
     "output_type": "execute_result"
    }
   ],
   "source": [
    "# Since RF Classifier accuracy is 92%, it is good model.\n",
    "y_pred"
   ]
  },
  {
   "cell_type": "code",
   "execution_count": 55,
   "id": "7178be66",
   "metadata": {},
   "outputs": [
    {
     "data": {
      "text/plain": [
       "0.040160642570281124"
      ]
     },
     "execution_count": 55,
     "metadata": {},
     "output_type": "execute_result"
    }
   ],
   "source": [
    "from sklearn.metrics import f1_score   # for calculating f1 score\n",
    "f1_score(y_val, y_pred, labels=None, pos_label=1, average='binary', sample_weight=None, zero_division='warn')"
   ]
  },
  {
   "cell_type": "code",
   "execution_count": 56,
   "id": "08e450ac",
   "metadata": {},
   "outputs": [
    {
     "data": {
      "text/plain": [
       "0.9274878640776699"
      ]
     },
     "execution_count": 56,
     "metadata": {},
     "output_type": "execute_result"
    }
   ],
   "source": [
    "f1_score(y_val,y_pred, average='micro')"
   ]
  },
  {
   "cell_type": "code",
   "execution_count": 57,
   "id": "3ce241c0",
   "metadata": {},
   "outputs": [
    {
     "data": {
      "text/plain": [
       "0.5012406555118472"
      ]
     },
     "execution_count": 57,
     "metadata": {},
     "output_type": "execute_result"
    }
   ],
   "source": [
    "f1_score(y_val,y_pred, average='macro')"
   ]
  },
  {
   "cell_type": "code",
   "execution_count": 58,
   "id": "42c79958",
   "metadata": {},
   "outputs": [
    {
     "data": {
      "text/plain": [
       "0.9274878640776699"
      ]
     },
     "execution_count": 58,
     "metadata": {},
     "output_type": "execute_result"
    }
   ],
   "source": [
    "f1_score(y_val,y_pred,pos_label=1, average='micro')  #for buy class 1"
   ]
  },
  {
   "cell_type": "code",
   "execution_count": 59,
   "id": "cadccd60",
   "metadata": {},
   "outputs": [
    {
     "data": {
      "text/plain": [
       "0.9172758370920102"
      ]
     },
     "execution_count": 59,
     "metadata": {},
     "output_type": "execute_result"
    }
   ],
   "source": [
    "f1_score(y_val,y_pred, average='weighted')"
   ]
  },
  {
   "cell_type": "code",
   "execution_count": 60,
   "id": "91d6a8b4",
   "metadata": {},
   "outputs": [
    {
     "data": {
      "text/plain": [
       "0.9172758370920102"
      ]
     },
     "execution_count": 60,
     "metadata": {},
     "output_type": "execute_result"
    }
   ],
   "source": [
    "f1_score(y_val,y_pred,pos_label=1, average='weighted')  # for buy class=1"
   ]
  },
  {
   "cell_type": "code",
   "execution_count": 61,
   "id": "61f67124",
   "metadata": {},
   "outputs": [
    {
     "data": {
      "text/plain": [
       "array([0.96232067, 0.04016064])"
      ]
     },
     "execution_count": 61,
     "metadata": {},
     "output_type": "execute_result"
    }
   ],
   "source": [
    "f1_score(y_val,y_pred, average=None)     "
   ]
  },
  {
   "cell_type": "code",
   "execution_count": 62,
   "id": "781ff2b4",
   "metadata": {},
   "outputs": [
    {
     "data": {
      "text/plain": [
       "array([0.96232067, 0.04016064])"
      ]
     },
     "execution_count": 62,
     "metadata": {},
     "output_type": "execute_result"
    }
   ],
   "source": [
    "f1_score(y_val,y_pred,pos_label=1, average=None)  # for but class 1"
   ]
  },
  {
   "cell_type": "markdown",
   "id": "437b22a7",
   "metadata": {},
   "source": [
    "From above f1 scores , actually f1 score by default calculate for 1.here best f1_score is with average='micro' with 0.92 which is near to 1 . f1 score near o 1 is good model"
   ]
  },
  {
   "cell_type": "code",
   "execution_count": 63,
   "id": "a7b7bb0f",
   "metadata": {},
   "outputs": [],
   "source": [
    "test['buy'] =y_pred       # creating column of buy with predicted values in test dataset"
   ]
  },
  {
   "cell_type": "code",
   "execution_count": 64,
   "id": "14c99c08",
   "metadata": {},
   "outputs": [
    {
     "data": {
      "text/html": [
       "<div>\n",
       "<style scoped>\n",
       "    .dataframe tbody tr th:only-of-type {\n",
       "        vertical-align: middle;\n",
       "    }\n",
       "\n",
       "    .dataframe tbody tr th {\n",
       "        vertical-align: top;\n",
       "    }\n",
       "\n",
       "    .dataframe thead th {\n",
       "        text-align: right;\n",
       "    }\n",
       "</style>\n",
       "<table border=\"1\" class=\"dataframe\">\n",
       "  <thead>\n",
       "    <tr style=\"text-align: right;\">\n",
       "      <th></th>\n",
       "      <th>id</th>\n",
       "      <th>created_at</th>\n",
       "      <th>campaign_var_1</th>\n",
       "      <th>campaign_var_2</th>\n",
       "      <th>products_purchased</th>\n",
       "      <th>signup_date</th>\n",
       "      <th>user_activity_var_1</th>\n",
       "      <th>user_activity_var_2</th>\n",
       "      <th>user_activity_var_3</th>\n",
       "      <th>user_activity_var_4</th>\n",
       "      <th>user_activity_var_5</th>\n",
       "      <th>user_activity_var_6</th>\n",
       "      <th>user_activity_var_7</th>\n",
       "      <th>user_activity_var_8</th>\n",
       "      <th>user_activity_var_9</th>\n",
       "      <th>user_activity_var_10</th>\n",
       "      <th>user_activity_var_11</th>\n",
       "      <th>user_activity_var_12</th>\n",
       "      <th>buy</th>\n",
       "    </tr>\n",
       "  </thead>\n",
       "  <tbody>\n",
       "    <tr>\n",
       "      <th>0</th>\n",
       "      <td>39162</td>\n",
       "      <td>2022-01-01</td>\n",
       "      <td>2</td>\n",
       "      <td>2</td>\n",
       "      <td>2</td>\n",
       "      <td>2021-08-17</td>\n",
       "      <td>1</td>\n",
       "      <td>1</td>\n",
       "      <td>0</td>\n",
       "      <td>0</td>\n",
       "      <td>0</td>\n",
       "      <td>1</td>\n",
       "      <td>0</td>\n",
       "      <td>0</td>\n",
       "      <td>0</td>\n",
       "      <td>0</td>\n",
       "      <td>1</td>\n",
       "      <td>0</td>\n",
       "      <td>1</td>\n",
       "    </tr>\n",
       "    <tr>\n",
       "      <th>1</th>\n",
       "      <td>39163</td>\n",
       "      <td>2022-01-01</td>\n",
       "      <td>4</td>\n",
       "      <td>7</td>\n",
       "      <td>3</td>\n",
       "      <td>2020-05-21</td>\n",
       "      <td>1</td>\n",
       "      <td>0</td>\n",
       "      <td>0</td>\n",
       "      <td>0</td>\n",
       "      <td>0</td>\n",
       "      <td>0</td>\n",
       "      <td>0</td>\n",
       "      <td>1</td>\n",
       "      <td>0</td>\n",
       "      <td>0</td>\n",
       "      <td>0</td>\n",
       "      <td>0</td>\n",
       "      <td>0</td>\n",
       "    </tr>\n",
       "    <tr>\n",
       "      <th>2</th>\n",
       "      <td>39164</td>\n",
       "      <td>2022-01-01</td>\n",
       "      <td>8</td>\n",
       "      <td>7</td>\n",
       "      <td>2</td>\n",
       "      <td>2022-03-06</td>\n",
       "      <td>0</td>\n",
       "      <td>0</td>\n",
       "      <td>0</td>\n",
       "      <td>0</td>\n",
       "      <td>1</td>\n",
       "      <td>1</td>\n",
       "      <td>0</td>\n",
       "      <td>0</td>\n",
       "      <td>0</td>\n",
       "      <td>0</td>\n",
       "      <td>0</td>\n",
       "      <td>0</td>\n",
       "      <td>0</td>\n",
       "    </tr>\n",
       "    <tr>\n",
       "      <th>3</th>\n",
       "      <td>39165</td>\n",
       "      <td>2022-01-01</td>\n",
       "      <td>9</td>\n",
       "      <td>8</td>\n",
       "      <td>2</td>\n",
       "      <td>2020-06-22</td>\n",
       "      <td>0</td>\n",
       "      <td>0</td>\n",
       "      <td>0</td>\n",
       "      <td>0</td>\n",
       "      <td>1</td>\n",
       "      <td>1</td>\n",
       "      <td>1</td>\n",
       "      <td>0</td>\n",
       "      <td>0</td>\n",
       "      <td>0</td>\n",
       "      <td>2</td>\n",
       "      <td>0</td>\n",
       "      <td>1</td>\n",
       "    </tr>\n",
       "    <tr>\n",
       "      <th>4</th>\n",
       "      <td>39166</td>\n",
       "      <td>2022-01-01</td>\n",
       "      <td>4</td>\n",
       "      <td>5</td>\n",
       "      <td>2</td>\n",
       "      <td>2021-03-10</td>\n",
       "      <td>1</td>\n",
       "      <td>0</td>\n",
       "      <td>0</td>\n",
       "      <td>0</td>\n",
       "      <td>0</td>\n",
       "      <td>0</td>\n",
       "      <td>0</td>\n",
       "      <td>0</td>\n",
       "      <td>0</td>\n",
       "      <td>0</td>\n",
       "      <td>0</td>\n",
       "      <td>0</td>\n",
       "      <td>0</td>\n",
       "    </tr>\n",
       "  </tbody>\n",
       "</table>\n",
       "</div>"
      ],
      "text/plain": [
       "      id created_at  campaign_var_1  campaign_var_2  products_purchased  \\\n",
       "0  39162 2022-01-01               2               2                   2   \n",
       "1  39163 2022-01-01               4               7                   3   \n",
       "2  39164 2022-01-01               8               7                   2   \n",
       "3  39165 2022-01-01               9               8                   2   \n",
       "4  39166 2022-01-01               4               5                   2   \n",
       "\n",
       "  signup_date  user_activity_var_1  user_activity_var_2  user_activity_var_3  \\\n",
       "0  2021-08-17                    1                    1                    0   \n",
       "1  2020-05-21                    1                    0                    0   \n",
       "2  2022-03-06                    0                    0                    0   \n",
       "3  2020-06-22                    0                    0                    0   \n",
       "4  2021-03-10                    1                    0                    0   \n",
       "\n",
       "   user_activity_var_4  user_activity_var_5  user_activity_var_6  \\\n",
       "0                    0                    0                    1   \n",
       "1                    0                    0                    0   \n",
       "2                    0                    1                    1   \n",
       "3                    0                    1                    1   \n",
       "4                    0                    0                    0   \n",
       "\n",
       "   user_activity_var_7  user_activity_var_8  user_activity_var_9  \\\n",
       "0                    0                    0                    0   \n",
       "1                    0                    1                    0   \n",
       "2                    0                    0                    0   \n",
       "3                    1                    0                    0   \n",
       "4                    0                    0                    0   \n",
       "\n",
       "   user_activity_var_10  user_activity_var_11  user_activity_var_12  buy  \n",
       "0                     0                     1                     0    1  \n",
       "1                     0                     0                     0    0  \n",
       "2                     0                     0                     0    0  \n",
       "3                     0                     2                     0    1  \n",
       "4                     0                     0                     0    0  "
      ]
     },
     "execution_count": 64,
     "metadata": {},
     "output_type": "execute_result"
    }
   ],
   "source": [
    "test.head()           # first 5 rows to display"
   ]
  },
  {
   "cell_type": "code",
   "execution_count": 65,
   "id": "e2287e6d",
   "metadata": {},
   "outputs": [
    {
     "data": {
      "text/plain": [
       "(13184, 2)"
      ]
     },
     "execution_count": 65,
     "metadata": {},
     "output_type": "execute_result"
    }
   ],
   "source": [
    "buy_2 = pd.DataFrame(test[['id','buy']])   # using 2 columns id,buy save into buy_2 data frame\n",
    "buy_2.head() # first 5 rows\n",
    "buy_2.shape"
   ]
  },
  {
   "cell_type": "code",
   "execution_count": 66,
   "id": "9ff7186a",
   "metadata": {},
   "outputs": [],
   "source": [
    "buy_2.to_csv('buy_2.csv',index=False)    # saving dataframe to csv file"
   ]
  },
  {
   "cell_type": "markdown",
   "id": "fd27e862",
   "metadata": {},
   "source": [
    "# SUMMARY\n",
    "Here we have 2 datasets of train & test seperately, in which train has label of buy ,test doesnt have, we need to predict. we read data into pandas dataframe. we did basic exploration of data by exploring shape,columns,missing values. Data munging done by converting data types of created at , signup date to timestamp. fill null values with respective mean & median respective of variable symmetric & skewed data. we examine trend of products purchased for signup date & created at. we can say it is decreasing from 2019 to 2021. so we need to focus on potential custumers or lead , to increase short term sales for next 3 months. we need to predict who will likely to purchase products in next 3 months from their past data. we need to standardize data for machime learning. As we dont have label for test, we used RF classsifier & calculate accuracy of train data. here train data splits into training & validating test. This validating model used to predict label for test. Here we got accuracy of RF classifier is 92.35%, which is good model. F1_score with micro average for buy label 1 is 0.92. we created buy label column in test dataframe. we created new dataframe name buy_2 for label  values along with id saved into csv format."
   ]
  },
  {
   "cell_type": "markdown",
   "id": "8f6eb0fc",
   "metadata": {},
   "source": [
    "**Author**  **Harsha Veena**\n",
    "\n",
    "**created on** 4:6:2022\n",
    "\n",
    "**IDE** Jupyter Notebook\n",
    "\n",
    "**Programming Language** Python\n",
    "\n",
    "**ML Model** RandomForestClassifier\n",
    "\n",
    "**Accuracy** 92%\n",
    "\n",
    "**F1_score** 0.92\n",
    "\n",
    "**average** micro\n",
    "\n",
    "**class** 1"
   ]
  },
  {
   "cell_type": "code",
   "execution_count": null,
   "id": "c4274fcb",
   "metadata": {},
   "outputs": [],
   "source": []
  }
 ],
 "metadata": {
  "kernelspec": {
   "display_name": "Python 3 (ipykernel)",
   "language": "python",
   "name": "python3"
  },
  "language_info": {
   "codemirror_mode": {
    "name": "ipython",
    "version": 3
   },
   "file_extension": ".py",
   "mimetype": "text/x-python",
   "name": "python",
   "nbconvert_exporter": "python",
   "pygments_lexer": "ipython3",
   "version": "3.9.7"
  }
 },
 "nbformat": 4,
 "nbformat_minor": 5
}
